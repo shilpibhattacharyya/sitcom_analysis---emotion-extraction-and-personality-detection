{
 "cells": [
  {
   "cell_type": "markdown",
   "metadata": {},
   "source": [
    "---\n",
    "\n",
    "_You are currently looking at **version 1.0** of this notebook. To download notebooks and datafiles, as well as get help on Jupyter notebooks in the Coursera platform, visit the [Jupyter Notebook FAQ](https://www.coursera.org/learn/python-text-mining/resources/d9pwm) course resource._\n",
    "\n",
    "---"
   ]
  },
  {
   "cell_type": "markdown",
   "metadata": {},
   "source": [
    "*Note: Some of the cells in this notebook are computationally expensive. To reduce runtime, this notebook is using a subset of the data.*"
   ]
  },
  {
   "cell_type": "markdown",
   "metadata": {},
   "source": [
    "# Case Study: Sentiment Analysis"
   ]
  },
  {
   "cell_type": "markdown",
   "metadata": {},
   "source": [
    "### Data Prep"
   ]
  },
  {
   "cell_type": "code",
   "execution_count": 3,
   "metadata": {},
   "outputs": [],
   "source": [
    "bb_chars={} \n",
    "Walter=''\n",
    "Skyler=''\n",
    "Jesse=''\n",
    "Hank=''\n",
    "Marie=''\n",
    "Heisenberg=''\n",
    "with open(\"breaking_bad_transcripts/season_all/merged.csv\", \"r+\") as fp:\n",
    "    for cnt, line in enumerate(fp):\n",
    "        if line.startswith('Walter:'):\n",
    "            Walter=Walter+' '+(line[8:])\n",
    "        elif line.startswith('Skyler:'):\n",
    "            Skyler=Skyler+' '+(line[8:])\n",
    "        elif line.startswith('Jesse:'):\n",
    "            Jesse=Jesse+' '+(line[7:])\n",
    "        elif line.startswith('Hank:'):\n",
    "            Hank=Hank+' '+(line[6:])\n",
    "        if line.startswith('Marie:'):\n",
    "            Marie=Marie+' '+(line[7:])\n",
    "        if line.startswith('Heisenberg:'):\n",
    "            Heisenberg=Heisenberg+' '+(line[12:])\n",
    "\n",
    "bb_chars['Walter']=Walter\n",
    "bb_chars['Skyler']=Skyler\n",
    "bb_chars['Jesse']=Jesse\n",
    "bb_chars['Hank']=Hank\n",
    "bb_chars['Marie']=Marie\n",
    "bb_chars['Heisenberg']=Heisenberg\n"
   ]
  },
  {
   "cell_type": "code",
   "execution_count": 5,
   "metadata": {},
   "outputs": [
    {
     "data": {
      "text/plain": [
       "' How does it feel to be a smart ass?\\n I was curious. Honestly, I never expected you to amount to much, but methamphetamine? I didn\\'t picture that. There\\'s a lot of money in it, huh?\\n \"Cap\\'n Cook?\" That\\'s not you? Like I said, no one is looking for you.\\n Not really.\\n Short speech. You lost your partner today. What\\'s his name – Emilio? Emilio is going to prison. The DEA took all your money, your lab. You got nothing. Square one. But you know the business. And I know the chemistry. I\\'m thinking...maybe you and I could partner up.\\n That\\'s right. Either that...or I turn you in.\\n Did you learn nothing from my chemistry class?\\n No wonder.\\n The shit you cook is shit. I saw your set-up. Ridiculous. You and I will not make garbage. We will produce a chemically pure and stable product that performs as advertised. No adulterants. No baby formula. No chili powder.\\n Not anymore.\\n Why do you do it?\\n There you go.\\n I\\'m 50.\\n I am awake.\\n Buy the RV. We start tomorrow.\\n After we finish cleaning up this mess, we will go our separate ways. Our paths will never cross and we will tell this to no one. Understood?\\n So what did you end up buying?\\n I don\\'t suppose you could buy two bins... [makes a sawing motion] Legs in one, torso in the other?\\n He...sells me pot.\\n Marijuana, yeah. Not a lot. I mean, I don\\'t know. I kind of like it.\\n Skyler, I just...haven\\'t quite been myself lately.\\n I haven\\'t been myself lately, but I love you. Nothing about that has changed, nothing ever will. So right now, what I need is for you to climb down out of my ass. Can you do that? Will you do that for me, honey? Will you please, just once, get off my ass, you know? I\\'d appreciate it, I really would.\\n Because you didn\\'t follow my instructions!\\n You know, you keep telling me that I don\\'t have it in me. Well, maybe, maybe not. I sure as hell am looking for any reason not to. I mean, any good reason at all. Sell me. Tell me what it is.\\n I don\\'t know. But you gotta convince me and you\\'re going nowhere until you do.\\n Do you want to... [motions for Krazy-8 to turn around so he can unlock the chain. Krazy-8 turns around] So you\\'re not angry?\\n That\\'s very understanding.\\n Me too.\\n The moment I do, are you gonna stick me with that broken piece of plate?\\n I\\'m sorry...I\\'m sorry...I\\'m so sorry...\\n I don\\'t know. Just...doesn\\'t it seem like...something\\'s missing?\\n The soul? There\\'s nothing but chemistry here.\\n I have cancer. Lung cancer. It\\'s bad.\\n You can\\'t be serious. What the hell are you doing here?\\n Who sent you? You wearing a wire? You setting me up?\\n So who did you tell about–\\n Then why are you here?\\n Touch base?\\n Wow, that\\'s...that\\'s what you think we need, to debrief?\\n Everybody digs...the meth we cooked.\\n Great.\\n Get the hell off my property.\\n Go and don\\'t come back. Now!\\n I just think that we need to...discuss it a little more, that\\'s all.\\n Well, there\\'s the money discussion. $90,000 out of pocket. Maybe more.\\n Alright. Skyler, say that there is a way, and we spend all that money, and...am I supposed to leave you with all that debt? I just don\\'t want emotions ruling us. Maybe treatment isn\\'t the way to go.\\n Well, back when Elliott and I were in grad school, we came up with the name. Schwartz: black. Walter White. So together, they became Gray Matter Technologies.\\n Well, no. No, that\\'s Gretchen and Elliott. I gravitated toward education.\\n Alright, I\\'ve got the Talking Pillow now. Okay? We all, in this room, love each other. We want what\\'s best for each other and I know that. I am very thankful for that. But...what I want...what I want, what I need, is a choice.\\n Sometimes I feel like I never actually make any of my own. Choices, I mean. My entire life, it just seems I never...you know, had a real say about any of it. Now this last one, cancer...all I have left is how I choose to approach this.\\n Of course I do. Skyler, you\\'ve read the statistics. These doctors...talking about surviving. One year, two years, like it\\'s the only thing that matters. But what good is it, to just survive if I am too sick to work, to enjoy a meal, to make love? For what time I have left, I want to live in my own house. I want to sleep in my own bed. I don\\'t wanna choke down 30 or 40 pills every single day, lose my hair, and lie around too tired to get up...and so nauseated that I can\\'t even move my head. And you cleaning up after me? Me...some dead man, some artificially alive...just marking time? No. No. And that\\'s how you would remember me. That\\'s the worst part. So...that is my thought process, Skyler. I\\'m sorry. I just...I choose not to do it.\\n Wanna cook?\\n Let\\'s get something straight. This – the chemistry – is my realm. I am in charge of the cooking. Out there on the street, you deal with that. As far as our customers go, I don\\'t want to know anything about them. I don\\'t need to see them. I don\\'t want to hear from them. I want no interaction with them whatsoever. This operation is you and me, and I\\'m the silent partner. You got any issues with that?\\n No matter what happens, no more bloodshed. No violence.\\n Tell you what?\\n How did you know?\\n 3-A.\\n Your aunt...How bad was she when they caught it?\\n How long?\\n You got a problem with that?\\n We have to move our production bulk wholesale now. How do we do that?\\n Yes. Yes, that\\'s what we need. We need a distributor now. Do you know anyone like that?\\n Heisenberg.\\n I don\\'t imagine I\\'ll be here very long.\\n $50,000.\\n 35 for the pound of meth you stole and another fifteen for my partner\\'s pain and suffering.\\n You got one part of that wrong. [reaches out and picks up the crystal Tuco had examined] This... is not meth.\\n [holding the bag threateningly over his head] You wanna find out?\\n Money up front.\\n One pound is not going to cut it. You have to take two.\\n Fulminated mercury, and a little tweak of chemistry.\\n Because it was illegal.\\n What\\'s wrong with it? It\\'s private.\\n Yeah, so...so where do you transact business? Enlighten me.\\n We\\'re not going to need pseudoephedrine. We\\'re going to make phenylacetone in a tube furnace, then we\\'re going to use reductive amination to yield methamphetamine. Four pounds.\\n No pseudo.\\n Thermite.\\n In World War II, the Germans had an artillery piece – it\\'s the biggest in the world – called the Gustav Gun, and it weighed a thousand tons. And the Gustav was capable of firing a seven-ton shell and hitting a target – accurately – twenty-three miles away. [chuckles] I mean, you could drop bombs on it every day for a month without ever disabling it. But, drop a commando – one man – with just a bag of this... and he could melt right through four inches of solid steel and destroy that gun forever.\\n So yes, I think it\\'ll cut through any lock we\\'re likely to find.\\n We used a different chemical process, but it is every bit as pure.\\n Tuco. Tuco, hey, why don\\'t we just all relax, huh?\\n Adjusting for inflation – good state college – adjusting for inflation, say $45,000 a year, two kids, four years of college...$360,000. Remaining mortgage on the home, $107,000. Home equity line, $30,000, that\\'s $137,000. Cost of living, food, clothing, utilities – say, two grand a month? I mean, that should put a dent in it, anyway. 24K a year provides for, say, ten years. That\\'s $240,000, plus 360 plus 137...737. $737,000, that\\'s what I need. That is what I need. You and I both clear about 70 grand a week. That\\'s only ten and a half more weeks. Call it eleven. Eleven more drug deals and always in a public place from now on. It\\'s doable. Definitely doable.\\n This is conjecture.\\n Conjecture, yes. And conjecture isn\\'t helping.\\n Could you just state the facts?\\n No, if he wanted to kill us, he would have done it at the junkyard.\\n Pop, pop, pop? So three shots?\\n Wait, so is it two or is it three?\\n Okay, two shots. Two shots in the chest, two shots in the face, what?\\n No, I am just trying to understand how this works!\\n I\\'ve got a better idea.\\n You\\'re saying, Tuco, you\\'re saying Gonzo is currently operating as a police informant as far as you know? [Tuco nods] I\\'m very sorry to hear that. That\\'s disappointing.\\n We need a plan.\\n Crack him over the head with something? [Walter sarcastically holds up a fly swatter]\\n Oh, so my life is not the priority here because I\\'m gonna be dead soon anyway? That\\'s your point?\\n Tuco, c\\'mon, hey, he\\'s, there\\'s clearly some dementia. He\\'s not lucid.\\n Nothing, nothing.\\n I don\\'t know. I swear, I don\\'t know. I, no, I, it, maybe it was, I did change the channel on his TV, but, uh...\\n No, no, Tuco!\\n Tuco...\\n We tried to poison you. We tried to poison you because you are an insane, degenerate piece of filth and you deserve to die.\\n Let him bleed.\\n That must be it!\\n There was no fugue state. I remember everything. The truth is I couldn\\'t stand to spend another second in that house. I just had to...get out. And so I left. I didn\\'t think about it, I just did it. I walked for a long time, and when I couldn\\'t walk anymore, I hitchhiked. I got as far as Gallup. And then it was just time to come home.\\n Doctor, my wife is seven months pregnant with a baby we didn\\'t intend. My fifteen-year old son has cerebral palsy. I am an extremely overqualified high school chemistry teacher. When I can work, I make $43,700 per year. I have watched all of my colleagues and friends surpass me in every way imaginable. And within eighteen months, I will be dead. And you ask why I ran?\\n Pay phone?\\n Okay. You?\\n Your what? What is that?\\n Wait, wait, what does he know? Does he know it\\'s your money?\\n Did he mention my name?\\n How about the basement?\\n And the RV?\\n Can he get it running again?\\n So we can cook.\\n What\\'s changed, Jesse?\\n [to Skyler] Our son doesn\\'t know who Boz Scaggs is. We have failed as parents.\\n White residence.\\n What part of \"no contact\" didn\\'t you understand?\\n I don\\'t care. We agreed...[Skyler walks by]...no amount of pay-per-view channels is going to make a difference. Honey, we\\'re happy with our cable provider, right? Yep, we\\'re happy. [Walter hangs up]\\n Tell you what?\\n What the f...?\\n What is wrong with you? Why are you blue? Aw Jesus...\\n Are you actually this stupid...\\n ...to come to my house, and park on my street, driving this vehicle? I mean, what the hell is wrong with you?! I\\'m really asking!\\n What if Skyler had seen you, huh? What then? What was the plan then, genius? Hm?\\n You don\\'t know. You know why you don\\'t know? Because you don\\'t think! That\\'s why! You don\\'t think! You never figured out how to think, did you, big man?\\n Your half? There is no your half of the money! There is only my all of it, do you understand?! Why, why should I be penalized because of your sloppiness?!\\n Partners in what? What exactly do you do here, I\\'ve been meaning to ask. Because I\\'m the producer, right? I cook. But from what I can tell, you are just a drug addict! You are a pathetic junkie too stupid to understand and follow simple rudimentary instructions! Too stupid to–\\n ...Do it...\\n [in a calm tone] - Then what do you suggest we do? I don\\'t think either of us are eager to jump into bed with another Tuco.\\n [squints eyes at Jesse] You\\'ve got bills?\\n You wanna know how much I\\'ve got left? After completing my first round of treatment and financing the world\\'s most expensive alibi? Zero. Zip. Nothing.\\n So you\\'re going to what? Snort meth off a bowie knife? You\\'re gonna beat your homies to death when they \"dis\" you?\\n No.\\n No, I am not willing to do that!\\n I don\\'t vote for this plan. I\\'m not comfortable bringing in unknown entities into our operation.\\n I beg your pardon? This is a partnership, remember?\\n Alright, I will admit to a bit of a learning curve.\\n And perhaps I was overly ambitious. In any case, it\\'s not gonna happen that way anymore.\\n You asked me what I want you to do.\\n I want you to handle it.\\n The man who invented the diamond. All right. H. Tracy Hall – write this name down. Dr. Hall invented the first reproducible process for making synthetic diamonds. I mean, this is way back in the 50\\'s. Now today, synthetic diamonds are used in oil drilling, electronics, multi-billion dollar industries. Now at the time, Dr. Hall worked for General Electric and he made them a fortune. I mean, incalculable. You want to know how GE rewarded Dr. Hall? A $10 U.S. savings bond. [Walt becomes angry but calms himself] Anyway, a savings bond printed on carbon-based paper paid to a carbon-based man for something he made out of...carbon.\\n Yeah. That\\'s pretty much the size of it.\\n What would you know about me, Gretchen? What would your presumption about me be, exactly? That I should go begging for your charity, and you waving your checkbook around like some magic wand is going to make me forget how you and Elliott – how you and Elliott – cut me out?\\n It was my hard work. My research. And you and Elliott made millions off it.\\n Oh God, that\\'s beautifully done.\\n You are always the picture of innocence.\\n The picture of innocence. Just sweetness and light.\\n That\\'s your excuse? To build your little empire on my work?\\n Little rich girl, just adding to your millions.\\n Fuck you.\\n Apparently, it\\'s all over town. Somebody crossed you, you got angry you crushed their skull with an ATM machine.\\n Who cares as long as it\\'s our competitors who believe it and not the police? -Oh, my--\\n - No, don\\'t you see how great this is? Look, you.. You are a --\\n Jesse, look at me, you are a blow fish.\\n A blow fish, think about it. Small in stature, not swift, not cunning, easy prey for predators. But the blow fish has a secret weapon, doesn\\'t he? Doesn\\'t he? What does the blow fish do, Jesse? What does the blow fish do?\\n The blow fish puffs up, okay? The blow fish puffs himself up four, five times larger than normal, but why? Why does he do that? Because it makes him intimidating, that\\'s why. Intimidating so that the other scarier fish are scared off and that\\'s you. You are a blow fish. Don\\'t you see? It\\'s just all–all an illusion. It\\'s nothing but air. Now, who messes with the blow fish, Jesse?\\n You\\'re damn right.\\n We\\'re not charging enough.\\n Corner the market, then raise the price. Simple economics.\\n I have spent my whole life scared – frightened of things that could happen, might happen, might not happen. Fifty years I spent like that. Finding myself awake at three in the morning. But you know what? Ever since my diagnosis, I sleep just fine.\\n What I came to realize is that fear, that\\'s the worst of it. That\\'s the real enemy. So, get up. Get out in the real world. And you kick that bastard as hard as you can right in the teeth.\\n How about we get him a real attorney? I mean, what the hell is this? This is who he hires?\\n [sarcastically] Ooh, this is the guy you\\'d hire.\\n How did you find me?\\n So this is what? Blackmail?\\n So what? You\\'re just doing this out of the kindness of your heart?\\n I don\\'t understand. What exactly are you offering to do for me?\\n I\\'m no Vito Corleone.\\n At this time...$16,000.\\n We\\'ve had some extenuating circumstances.\\n Smoking marijuana, eating Cheetos and masturbating do not constitute plans in my book.\\n Three entire bags of Funyuns?\\n God...\\n How about something with some protein, maybe? Something green, huh? How are you even alive?\\n I have this coming.\\n I have it coming. I deserve this.\\n All I ever managed to do was worry and disappoint them. And lie. Oh God, the lies...I can\\'t even...can\\'t even keep them straight in my head anymore...\\n Jesse...Jesse...Your body is running dangerously low on electrolytes. Sodium, potassium, calcium...and when they\\'re gone, your brain ceases to communicate with the muscles. Your lungs stop breathing. Your heart stops pumping. You go marching out there, and within an hour, you will be dead.\\n [laughs weakly] Something... something scientific, right...\\n Do you... do you have any money? Change, I mean, coins?\\n Okay... [gets up]\\n Gather them. And–and–and washers, and nuts and bolts and screws, and whatever little pieces of metal we can think of that is galvanized – it has to be galvanized – or–or solid zinc.\\n And–and–and bring me... brake pads! The front wheels should have discs. Take them off and bring them to me.\\n [kicks a toolbox toward Jesse] Brake pads!\\n You said it yourself.\\n ...A battery.\\n And now, what shall we use to conduct this beautiful current with, hm? What one particular element comes to mind, hm? [Walter holds up a copper wire] Hmm?\\n ...Copper.\\n It\\'s copper.\\n The upshot is that I have radiation pneumonitis.\\n Actually, it\\'s not as bad as it sounds. It\\'s a fairly common occurrence. Easily treated. In fact, the news is all good.\\n Remission. Not to imply I\\'m cured. I still have cancer, but there\\'s been a significant reduction in the tumors.\\n Eighty percent.\\n I\\'m not out of the woods yet, not by any stretch...but \"options\" is the word they keep bandying about.\\n Eh.\\n Of course. I am.\\n We\\'ll take our time and stay cautious. Sell off what we have and then...well, then I guess I\\'m done.\\n Um...well, it\\'s kind of funny. When I got my diagnosis – cancer – I said to myself, y\\'know, \"Why me?\" And then, the other day when I got the good news, I said the same thing. [The party guests are silent with confusion] Anyway, uh, thank you for coming and...enjoy.\\n Hey! Bring. The bottle. Back.\\n My son! My bottle! My house!\\n What are you waiting for? Bring it back!\\n The bottle. Now.\\n Stay out of my territory.\\n God. This entire process has just been so... It\\'s always been one step forward and two steps back. We need your help.\\n Have a seat. Please. [Gus sits down across from Walt] I would like to know why you wouldn\\'t meet with me yesterday.\\n I sat here yesterday waiting to meet with someone. I believe that person was you.\\n I don\\'t think I am.\\n I was told that the man I\\'d be meeting with was very careful. A cautious man. I believe we are alike in that way. If you are who I think you are, you should give me another chance.\\n Yes. Yes, he was.\\n Are you familiar with my product?\\n It is impeccable. It is the purest, most chemically sound product on the market, anywhere.\\n You could charge twice the current rate for what I provide and your customers would pay it, hands down. Now, who I choose to do business with on my end is not your problem. You won\\'t see him, you won\\'t interact with him. Forget he exists.\\n Because he does what I say. Because I can trust him.\\n 38 pounds. Ready to go at a moment\\'s notice. [Gus gets up] Will I hear from you?\\n How much what?\\n $1.2 million.\\n $480,000. Saul\\'s cut is 20%.\\n Ha!\\n You are joking, right? If I gave you that money, you would be dead inside of a week.\\n Prove it. Pee in that.\\n Pee in it! They\\'re selling testing kits at the drug stores. If you are clean, I will give you every last dime. [Jesse is silent] No, huh? Well, I guess until then, you\\'ll just have to depend on the kindness of strangers to get high. That and your little junkie girlfriend.\\n No, no, it cannot be blind luck or some imaginary relative who saves us. No, I earned that money. Me! And now my son created his own website – SaveWalterWhite.com. Soliciting anonymous donations. Do you have any idea how that makes me feel?\\n Cyber-begging, that\\'s all that is. Just rattling a little tin cup to the entire world.\\n Nice job wearing the pants.\\n What?\\n What are you doing?\\n Since when?\\n Why would I do that?\\n Skyler...\\n Okay, can you at least tell me why?\\n What?\\n When? Skyler, I was medicated. I mean, I could have said the world was flat.\\n Honey, we have been over this. Asked and answered, right? There–\\n You tell me, Skyler. You tell me exactly what it is you think I\\'m lying about. What, an affair? I\\'m having an affair? Is that what you think?\\n With whom? Who am I having an affair with?\\n Jesus, Skyler. Get me a Bible to swear on, if that\\'s what it takes. I am not having an affair with Gretchen!\\n Skyler...\\n Skyler...Skyler, don\\'t do this, please. I...I...Skyler, please don\\'t go. [Skyler tries to close the car door, but Walter stops her] If I tell you the truth, will you stay? Stay and I will tell you everything.\\n No, it\\'s okay.\\n Half a million in cash.\\n I guess what I would want to say is to look on the bright side. First of all, nobody on the ground was killed, and that– I mean, an incident like this over a populated urban center– that right there, that\\'s–that\\'s just gotta be some minor miracle, so... Plus, neither plane was full. You know, the–the 737 was–was what? Maybe two-thirds full, I believe? Right, yes? Or maybe even three-quarters full. On any rate, what you\\'re left with casualty-wise is just the 50th-worst air disaster. Actually, tied for 50th. There are, in truth, 53 crashes throughout history that are just as bad or worse. Tenerife? Has–has anybody–anybody heard of Tenerife? No? In 1977, two fully-loaded 747s crashed into each other on Tenerife. Does anybody know how big a 747 is? I mean, it\\'s way bigger than a 737, and we\\'re talking about two of them. Nearly 600 people died from Tenerife. But do any of you even remember it at all? Any of you? I doubt it. You know why? It\\'s because people move on. They just move on. And we will, too. We will move on and we will get past this. Because that is what human beings do, we survive. And, uh... we survive, and we–we overcome. We survive. We survive, and...\\n I love you, Skyler. And I would do anything for you. Would you even consider, I mean...Jesus! You come in here and you wave these papers in my face, when there\\'s a whole other entire side to this thing. There\\'s your side and there\\'s my side, and you haven\\'t heard my side yet. You haven\\'t heard any of it all.\\n No. How...What?\\n ...It\\'s methamphetamine. But I\\'m a manufacturer, I\\'m not a dealer.\\n Per se. I...it doesn\\'t mean... [Skyler gets up and heads to the door] No, Skyler! Listen to me, Skyler! [Walter grabs her arm] Listen.\\n There are a lot of angles to this, okay? It\\'s complicated, all right? So please listen. Please, let\\'s just sit back down and we\\'ll talk it through.\\n No, Skyler...\\n Now what exactly does that mean?\\n And who are you?\\n [to Gus] I\\'m here because I owe you the courtesy and respect to tell you this personally. I\\'m done. It has nothing to do with you personally. I find you extraordinarily professional and I appreciate the way you do business. I\\'m just...I\\'m making a change in my life is what it is, and I\\'m at something of a crossroads and it\\'s brought me to a realization: I\\'m not a criminal. No offense to any people who are, but...this is not me.\\n What? What, you don\\'t believe me?\\n Wait. Wait just a minute. Just one minute.\\n No, no, no. I can get out of my own damn car.\\n You listen to me. It\\'s time for you to listen to me.\\n I have rights. Do you understand that? At least have the common decency to hear me out.\\n Did you even hear what I said?\\n Now you\\'re giving me a ticket? I told you that my house was in the debris field. Do you have the remotest inkling of what that means?\\n Hellfire rained down on my house.\\n Where my children sleep!\\n God...It\\'s a disaster.\\n Skyler...I mean, what kind of example do we wanna set here, right? I mean, can\\'t we at least just sit down and eat a piece of pizza together? Just hash things out like adults?\\n ...I\\'ve got dipping sticks.\\n I\\'ve done a terrible thing. But I\\'ve done it for a good reason. I did it for us. That [points to the duffel bag of money] is college tuition for Walter Jr. And Holly, eighteen years down the road. And it\\'s health insurance for you and the kids. For Jr.\\'s physical therapy. His SAT tutor. It\\'s money for groceries, gas, for birthdays and graduation parties. Skyler, that money is for this roof over your head. The mortgage that you are not going to be able to afford on a part-time bookkeeper\\'s salary when I\\'m gone.\\n Please. Please. This money, I didn\\'t steal it. It doesn\\'t belong to anyone else. I earned it. The things I\\'ve...done to earn it...they...the things I\\'ve had to do...I\\'ve got to live with them. Skyler, all that I\\'ve done, all the sacrifices that I\\'ve made for this family, all of it, will be for nothing if you don\\'t accept what I\\'ve earned. Please. I\\'ll be here when you get home from work. You can give me your answer then.\\n You think this will get me to move out? You can screw Ted, you can screw the butcher, the mailman, whoever you want! Screw all! I\\'m not going anywhere.\\n Suit myself...You want me to suit myself?! I\\'ll suit myself to his face!\\n How did you know?\\n About Skyler. About where to find me just now. How did you know?\\n Did you bug my house?\\n I told you to?\\n No, no, that\\'s not true. When the hell did I say that?\\n YOU\\'RE FIRED! YOU\\'RE DONE!\\n I want those bugs out of my house today! I want them out now!\\n This is very shoddy work, Pinkman. I\\'m actually embarrassed for you.\\n Oh, they said it was the bomb? And who are they, I wonder? A bunch of meth heads?\\n Yeah, well, sorry. I can\\'t help you.\\n Oh yeah? Well, good luck because my guy\\'s a pro and he doesn\\'t deal with junkies.\\n Anytime, loser!\\n Waffle House...?\\n More or less? More or less, really? Wow. Boy this... Talk about setting the bar low. Except you don\\'t do that, set the bar low. Therefore, what conclusion am I left to draw? That you believe I have some proprietary kind of selfishness about my own formula? Some sort of overweening pride that you think simply overwhelms me, clouds my judgment?\\n Absolutely not. I simply respect the chemistry. The chemistry must be respected.\\n I have made a series of very bad decisions and I cannot make another one.\\n For the good of my family.\\n This cost me my family.\\n Take it. It belongs to you.\\n Enjoy it. Spend it in good health. That is the last money you\\'ll ever earn in this business.\\n I hate to break it you, Jesse, but our \"mutual associate\" was only using you to get to me.\\n You see, he needs someone with expertise. Someone who knows what he\\'s doing. In other words, he needs me.\\n Yeah, how should I put this? I\\'m in...you\\'re out.\\n It\\'s, uh, $3 million for three months of my time.\\n Five percent.\\n Five.\\n Five.\\n Five.\\n Listen, we got a problem. A DEA problem.\\n It\\'s my brother-in-law. He knows about the RV.\\n Our RV. The one which contains a meth lab which is covered with my fingerprints. Ring a bell?\\n No, he knows it exists and he\\'s trying to find it. He has linked it to Jesse and it\\'s only a matter of time before he tracks it down, so...\\n No, listen, my brother-in-law, he is surveying Jesse\\'s house, do you understand? So he might have tapped his phones or bugged his house.\\n And do what exactly? I mean, what...the thing–the thing is the size of a–of a...It\\'s RV size! I mean, where do I go to make an RV disappear? I\\'m not David Copperfield!\\n No.\\n Okay, aw, shut up.\\n [whispering to Jesse what to say to Hank] Private domicile and I won\\'t be harassed.\\n So what happens now?\\n Listen, something\\'s come up. I think it\\'s a good opportunity. There\\'s been a job opening. I need a new lab assistant.\\n I don\\'t want a monkey. I want you.\\n That\\'s not why I\\'m here, Jesse. There\\'s more. It\\'s more than an assistant. Partners. We\\'d be partners again. Split everything, 50/50, just like before. 1.5 million dollars. Each.\\n I don\\'t think you heard me.\\n You understand this: you are turning down one and a half million dollars.\\n Your meth is good, Jesse. As good as mine.\\n Let me ask you something, do you remember when we were out in the desert with Tuco?\\n You knew. You knew my brother-in-law was with the DEA.\\n He is not a problem for us or our business, but your being here...is this some sort of message?\\n No, listen, I, uh...this attack on my brother-in-law, I don\\'t understand it, I don\\'t know what it means. Please, if you may have some knowledge that you can share with me. I fear for my family.\\n My brother-in-law, moments before he was attacked, someone called to warn him. I believe that same person was protecting me. Those two men – the assassins – I believe I was their prime target, but that somehow they were steered away from me to my brother-in-law. Because of this intervention, I am alive, and yet, I think that this person was playing a much deeper game. He made that phone call because he wanted a shootout, not a silent assassination. In one stroke, he bloodied both sides, set the American and Mexican governments against the cartel, and cut off the supply of methamphetamine to the Southwest. If this man had his own source of product on this side of the border, he would have the market to himself. The rewards would be enormous. We\\'re both adults. I can\\'t pretend I don\\'t know that person is you. I want there to be no confusion. I know I owe you my life, and more than that, I respect the strategy. In your position, I would have done the same. One issue which troubles me: I don\\'t know what happens when our three month contract ends.\\n You know why I do this. I want security for my family.\\n How did you come up with that? I mean, where did you possibly...?\\n There\\'s been a contamination.\\n Something got into the lab.\\n No, no, it\\'s not that kind of contaminant.\\n Not to us, particularly, no.\\n This is, uh, I made it.\\n ...Fly.\\n I mean, a fly. A housefly.\\n It got into the lab and I\\'m trying to get it out, okay? Understand?\\n [scoffs] Ebola.\\n Thank you, I know what Ebola is.\\n Now tell me, what would a West African virus be doing in our lab, hm?\\n Jesse, listen. This fly, or any other fly, if that matter, can not be in our lab.\\n [overlooks jesse from under his glasses] Do you understand, Jesse? It\\'s a problem. It\\'s a contamination, and that is in no way a misuse of the word \"Contamination\\'.\\n Okay, look, we\\'re running late, so let\\'s just get started. The sooner we do it, the sooner we\\'re done.\\n What are you doing?\\n Have you not heard a word I said? No cooking until this fly is dealt with. Have I been speaking to myself?\\n The batch will be good for nothing if we don\\'t clear the contaminant.\\n We\\'re making nothing until we catch this fly.\\n No, no. It is here. It is around, okay? He\\'s around, and I\\'m not going to expose this batch to the open air and contamination, period. Now, you can leave to deal with this myself or you can help me. But you\\'re right, we\\'re running out of time. So I need you to answer right now. [Jesse drops the sack and walks off] Okay.\\n I\\'ve been to my oncologist, Jesse. Just last week. I\\'m still in remission. I\\'m healthy.\\n No end in sight.\\n No. I missed it. There was some perfect moment that passed me right by, but I had to have enough to leave them. That was the whole point. None of this makes any sense if I didn\\'t have enough. And it had to be before she found out. Skyler. It had to be before that.\\n I\\'m saying that I lived too long. You want them to actually miss you. You want their memories of you to be...but she just won\\'t...she just won\\'t understand. I mean, no matter how well I explain it, these days she just has this...this... I mean, I truly believe there exists some combination of words. There must exist certain words in a certain specific order that can explain all of this, but with her I just can\\'t ever seem to find them.\\n You know, I was thinking before the fugue state, but during the fugue state I didn\\'t have enough money, so no, not then. And plus my daughter wasn\\'t born yet. It had to be after Holly was born.\\n Definitely before the surgery. Ah Christ, that damn second cell phone. I mean, how could I possibly? [pause] Oh, I know the moment. It was the night Jane died. I was at home and we needed diapers and so I said I\\'d go, but it was just an excuse. Actually that was the night I brought you your money, remember?\\n And afterward I stopped at a bar. It was odd, I never do that – go to a bar alone. I just walked in, sat down. I never told you.\\n I sit down and this man, this stranger, he engages me in conversation. He\\'s a complete stranger. But he turns out to be Jane\\'s father, Donald Margolis.\\n Of course I didn\\'t know it at the time. I mean, he\\'s just some guy in a bar. I just didn\\'t put it together until after the crash when he was all over the news.\\n Think of the odds. Once I tried to calculate them, but they\\'re astronomical. I mean, think of the odds of me going in and sitting down that night, in that bar, next to that man.\\n Water on Mars. Family.\\n I told him that I had a daughter and he told me he had one, too. And he said, \"Never give up on family.\" And I didn\\'t. I took his advice. My God, the universe is random; it\\'s not inevitable, it\\'s simple chaos. It\\'s subatomic particles and endless pings, collision – that\\'s what science teaches us. What does this say? What is it telling us that the very night that this man\\'s daughter dies, it\\'s me who is having a drink with him? I mean, how could that be random?\\n No, no, it\\'s, uh... Oh, that was the moment. That night. I should never have left home. Never gone to your house. Maybe things would have... Oh, I was...I was at home watching TV. Some nature program about elephants...and Skyler and Holly were in another room. I can hear them on the baby monitor. She was singing a lullaby. Oh, if I had just lived right up to that moment...and not one second more. That would have been perfect.\\n Jesse. Come here. I couldn\\'t chance saying it inside, for all I know the lab\\'s wired for sound. That half a pound that I said we were off by? Now I\\'m not accusing you, but if – you understand – if they ever found out...\\n I\\'m just saying that I won\\'t be able to protect you.\\n Help me how?\\n What advice do you have for me?\\n Why didn\\'t you go after these guys two or three months ago?\\n What\\'s to find out? It\\'s a dispute over turf, right? I mean, how hard could it have been for you to track them down on their turf and kill them months ago? Because back then you were too busy getting high, feeling sorry. Murder is not part of your twelve-step program. This is not some amends that you have to make. What you are talking about here is pointless. This achieves nothing. It accomplishes nothing.\\n Jesse, listen to me: you are not a murderer. I am not and you are not. It\\'s as simple as that. [Jesse gets up to leave] Jesse...\\n So you\\'re promoting caution here.\\n Ah.\\n Why would your estranged husband be doing all this for you? Because he loves his family and desperately wants a reconciliation, though it may be hopeless and futile.\\n I\\'m just not buying it.\\n Mmm.\\n Maybe...What if we, uh...maybe...could you get him arrested?\\n No, listen, I know it sounds risky, but it wouldn\\'t be anything that would get him into real trouble, nothing that could lead back to our business. Just some minor offense.\\n Not jail, as in jail jail. I\\'m talking about one of those situations when you\\'re in an orange jumpsuit picking up litter along the highway.\\n What can I do for you?\\n And?\\n Why?\\n Saul said you\\'ve done things like this before.\\n OK, so what\\'s the problem?\\n Saul?\\n What is?\\n No.\\n Just... just a warning?\\n Jesse... [Gus motions for Walter to be quiet]\\n How you holding up?\\n I got my old job back. At least until they kill me and Gale takes over.\\n He\\'s their boy.\\n Well, he asks a lot of questions about the cooking process. I try to be as vague as possible but I got that guy Victor watching me, listening to every word I say. Maybe the only thing saving me is Gale\\'s fastidiousness. Once he feels confident that he knows my entire method...\\n You know what we do.\\n Never the DEA. The cooking can\\'t stop. That\\'s the one thing I\\'m certain of – production cannot stop. Gus can\\'t afford to. So if I\\'m the only chemist that he\\'s got, then I got leverage and leverage keeps me alive, and it keeps you alive, too. I think I can see to that. If I\\'m the only chemist that he\\'s got...\\n I\\'ll do it. I\\'m gonna need your help. I mean, they\\'re watching me day and night. They never leave me alone with Gale, not for a moment. Hell, I don\\'t even know where the man lives. He\\'s not in the phonebook, I can\\'t find him on the Internet, I can\\'t do it in the lab – Victor\\'s always there. I mean, if I can just shake Victor, even an hour one night, I think then that...I may be able to...make it look like an accident.\\n I\\'m all ears, but when it comes down to you and me versus him, I\\'m sorry – I\\'m truly sorry – but it\\'s gonna be him.\\n Please don\\'t do this. Mike, you don\\'t have to do this.\\n I\\'ll cook. I\\'ll cook for free, and there won\\'t be anymore trouble, I promise you...\\n ...OK, if I could just talk to Gus...\\n ...I know I could make him understand...\\n ...Please if I could talk to Gus, I could convince him, OK? Just let me please, please, PLEASE let me talk to him!\\n Look, I\\'ll give you Jesse Pinkman, OK? Like you said, he\\'s the problem, he\\'s always been the problem and without him, we would...and he\\'s in town, alright? He\\'s not in Virginia or wherever the hell you\\'re looking for him. He\\'s right here in Albuquerque and I can take you to him, I\\'ll take you right to him. What do you say?\\n I don\\'t know, he moves around, but if you let me call him. [Walter reaches for his phone. Victor reaches for his gun] No, no, please! No, it\\'s just my phone. It\\'s just my phone. I\\'ll call him and I\\'ll have him meet me, OK? OK?\\n No, I didn\\'t do it. I can\\'t now. It\\'s gonna have to be you.\\n Listen to me. You\\'re closer than we are. You have about a 20 minute lead. They got me at the laundry and they\\'re going to kill me... [Mike and Victor attempt to grab the phone away] Jesse, do it now! Do it! Do it fast! Do it, Jesse! Do it! [Jesse grabs a gun and runs outside. Mike grabs the phone away from Walter]\\n You might want to hold off.\\n Because your boss is gonna need me. 6353 Juan Tabo, apartment 6. [Gale\\'s address. Mike and Victor look at each other, shocked] Yeah.\\n [quietly to Jesse] Bet he forgets the aluminum. Guarantee. Guarantee he forgets. [Victor pauses and thinks] Uh-huh. You don\\'t know what the hell you\\'re doing, do you? You forgot the aluminum. One of the first steps. [Victor grabs a bucket of aluminum and pours it into the batch] Son of a bitch.\\n Alright, let\\'s talk about Gale Boetticher. He was a good man and a good chemist and I cared about him. He didn\\'t deserve what happened to him. He didn\\'t deserve it at all. But I\\'d shoot him again and tomorrow and the next day and the day after that. When you make it Gale versus me, or Gale versus Jesse, Gale loses! Simple as that. This is on you, Gus, not me, not Jesse. I mean really, what\\'d you expect me to do? Just simply roll over and allow you to murder us? That I wouldn\\'t take measures – extreme measures – to defend myself? Wrong! Think again.\\n Gus, you do this, all you\\'ll have left is an $8 million hole in the ground. This lab, this equipment, is useless without us, without Jesse and myself. You\\'ll have no new product, you\\'ll have no income. Your people out there won\\'t be paid. Your distribution chain collapses. You\\'ll have nothing. You kill me, you have nothing. You kill Jesse, you don\\'t have me. You won\\'t do this. You\\'re too smart. You can\\'t afford to do this. Please let...let us just go back to work. We\\'re here. Let us work. We\\'re ready to go to work. We\\'ll just pick up right where we left off.\\n What do you mean?\\n Now, what page is that?\\n Yes. Absolutely, defense. Why?\\n Yeah, but... if you did have to use it, wouldn\\'t it still be better to use one that couldn\\'t be traced?\\n It\\'s for defense. [beat] Defense. I\\'ll take it.\\n May I buy you a drink? Next round when you\\'re done.\\n [to bartender] Another round for him and I\\'ll have the same. No ice. [to Mike] I feel like I need to explain myself. There were some actions that I took which I want you to understand. I didn\\'t want any of this to happen. Everything I did I did out of loyalty to my partner, and then later, of course, purely out of self-defense. I hope you can appreciate that. Just like I appreciated that... [waits for bartender to walk by] ...I appreciated that when you were going to kill me, you were simply following orders. I get that completely. And I harbor no ill will.\\n Mike, I\\'m trying to tell you–\\n Hell of a last couple of weeks. Makes a man wonder exactly where he stands.\\n I mean, I cannot be alone in feeling this way. Not after what happened to Victor.\\n Mike, do I have to come right out and say this? Now you and I, we\\'re in the same boat.\\n If it happened to Victor, it can happen to you. And what the hell was that anyway? A message? He cuts a man\\'s throat just to send a message?\\n Yeah, I got the job, but for how long? Get me in a room with him. Mike, just get me in a room and I\\'ll do the rest.\\n Yeah.\\n Saul, Bogdan is Romanian.\\n [slight pause] Yeah, no, no, no. She\\'s right. Look, do I need to state the obvious? I mean, there\\'s got to be dozens of car washes in this area. Who says it has to be this one?\\n Why?\\n God...\\n What do you mean rude about me?\\n What?\\n It\\'s this one.\\n [toasting to the new car wash where he will launder his drug money] To clean cars...and clean money.\\n \"I\\'m terribly, terribly ashamed of my actions.\"\\n Two terribly\\'s?\\n OK, I would just never use that word. I would never say the word \"terribly.\"\\n And why am I so ashamed?\\n I was – and am – providing for our family.\\n I\\'m \"weak\", I\\'m \"out of control\". I mean, this whole thing makes me look like crap.\\n How do you look bad exactly? Where is the \"I slept with my boss\" bullet point? Because I can\\'t seem to find that anywhere.\\n [jokingly, laughing] Heh. You got me!\\n Then what else should I not worry about, Saul, hm? Should I not worry that Gus plans to murder me at the first chance he gets? Should I not worry that my drug-addicted partner doesn\\'t seem to care whether he lives or dies? You should see his house. It\\'s like skid row! He has actual hobos living there! Now how long before Gus decides that he\\'s too big of a risk? That guy Mike, that grunting dead-eyed cretin, sucker punching me in the face! I\\'ve got Gus wielding a box cutter! I mean...Western Union! Message received! Let me ask you, when did this stop being a business, hm? Why am I the only person capable of behaving in a professional manner?\\n [from the bedroom] Hey, son!\\n Uh, we\\'re...we\\'re back here. We\\'ll be out in a minute.\\n Jesse. Jesse! What happened yesterday? Where were you?\\n Picking up what?\\n You...guarded Mike? What is this, some kind of a joke?\\n What, again? Why?\\n Hank, not to tell you your business, but I\\'m not sure I agree.\\n Well, you showed me that notebook and from what I saw – and this is just my humble opinion – from what I saw on those papers...genius? Not so much. I mean, there was no reasoning, no deductions in those pages, so to my eye, all this brilliance looks like nothing more than just simple rote copying, probably of someone else\\'s work. Believe me, I have been around enough students to know. So this genius of yours, maybe he\\'s still out there.\\n [to Skyler] Who are you talking to right now? Who is it you think you see? Do you know how much I make a year? I mean, even if I told you, you wouldn\\'t believe it. Do you know what would happen if I suddenly decided to stop going into work? A business big enough that it could be listed on the NASDAQ goes belly up. Disappears! It ceases to exist without me. No, you clearly don\\'t know who you\\'re talking to, so let me clue you in. I am not in danger, Skyler. I am the danger! A guy opens his door and gets shot and you think that of me? No. I am the one who knocks!\\n Yeah.\\n Bogdan. As is. [Bogdan hands over the framed dollar and leaves. Walter smashes the frame open and uses the dollar to buy a soda]\\n Alright, I need an update.\\n An update on these little field trips that you\\'ve been taking with Mike.\\n And you\\'re his bodyguard, right? [Jesse turns away] What? What? That\\'s what you said!\\n And this has to be you? It can\\'t be – I don\\'t know – Tyrus or any of the couple dozen muscleheads that Gus has working for him? It has to be Jesse Pinkman. Why? What, is there something about you I don\\'t know? Are you a former Navy SEAL? Do you have to have your hands registered as lethal weapons?\\n All I\\'m saying is that do you not even question this? Do you really believe that you mean anything to these people? And I\\'m not trying to be insulting, I\\'m just trying to make you see things clearly.\\n I mean, what if it...Oh God... [Walter thinks] I mean, what if it...What if it\\'s all just a set-up?\\n What if this robbery that you stopped wasn\\'t even real? I mean, think about it. Your first day out guarding Mike, he steps out for one second and what happens? You immediately get robbed.\\n Keep your friends close, keep your enemies closer. Like you said, Gus can\\'t kill you because of me. He knows that I won\\'t stand for it. He needs me and he hates the fact that he needs me! So what does he do? He goes to work driving a wedge between you and me!\\n Wait a minute, how long did those guys chase you, huh? \\'Cause the way you describe it, they gave up pretty damn easy. No, no, this whole thing – all of this – it\\'s all about me.\\n This was my idea. Don\\'t punish them. You tell Gus to blame me, not them.\\n [on phone] Yes, hello. I need a cab... Yes, thank you. The name is White... I\\'m at the Pavilion parking lot on University... Oh yes, that\\'s right, just south of the airport.... Oh, that would be great, thank you. Oh, how long do you think that would take? [The Dodge Challenger explodes] No, I\\'m sure he\\'ll see me. Thank you.\\n A month ago, Gus was trying to kill both of us, and now he pulls you out of the lab and employs you as...what? An assistant gunman? A tough guy? Does that make any sense to you? He says he sees something in you. What kind of game is he playing? Does he think you\\'re that naive? He can\\'t truly think that you\\'d forget. Let alone Gale, let alone Victor, and all the horror that goes along with all of that, what about this girlfriend of yours? And her little brother? I mean, the man looked you straight in the eye and told you no more children, but that very night, that little boy...he just, he winds up...I mean, Gus can\\'t possibly think that you\\'d forget that. All I\\'m saying is that is it possible that he would think that you\\'re that weak-willed...\\n You\\'ll do what?\\n That is such bullshit.\\n Never give up control. Live life on your own terms.\\n To hell with your cancer. I\\'ve been living with cancer for the better part of a year. Right from the start, it\\'s a death sentence. That\\'s what they keep telling me. Well, guess what? Every life comes with a death sentence. So every few months I come in here for my regular scan, knowing full well that one of these times – hell, maybe even today – I\\'m gonna hear some bad news. But until then, who\\'s in charge? Me. That\\'s how I live my life.\\n I\\'ve got some math for you: Hank catching Gus equals Hank catching us!\\n [feigning illness] Uh, Hank, uh, I mean, it sounds great, really does, but y\\'know, I won\\'t lie, you caught me somewhat...indisposed.\\n Yeah, that\\'s...embarrassingly, that\\'s it. Y\\'know, it\\'s just upset stomach and everything. It\\'s out of control...really explosive. Bad Tex-Mex at the mall.\\n Should I even ask?\\n So, what? Is this going to be a regular thing now? Meth cooking and corpse disposal? Jesus...\\n What was it this time? What did this poor bastard do to piss off Gus? Or did Gus just need to send another message?\\n No. Could I sit down?\\n Word has come down?\\n So you saw Gus?\\n You didn\\'t see Gus.\\n Then who told you all of that?\\n Passed down? By whom?\\n So \"they\" doesn\\'t include Gus. You haven\\'t been with Gus, you haven\\'t seen Gus, you haven\\'t spoken to Gus.\\n You weren\\'t at Gus\\' house last night?\\n [Taking out the ricin cigarette] It\\'s still here. It\\'s still here. [Walter throws the ricin cigarette at Jesse] You look me in the eye and you tell me that you weren\\'t at his house last night.\\n Yeah.\\n 2 hours and 18 minutes and you couldn\\'t figure out a way to give it to him.\\n YOU LYING LITTLE SHIT! You had one thing to do, one thing! That is the only thing, I might add, that would save our lives. And you were right there. You were in the house and you didn\\'t have the guts to do it!\\n You never had any intention of killing him, did you?\\n This. This is how I knew. [tosses the GPS tracker to Jesse]\\n 7:10 to 9:28 pm. 2 hours and 18 minutes. But you had no intentions, did you? Not the slightest intention.\\n Oh ho!\\n I\\'m sorry, after everything you\\'ve done for me? What you\\'ve done for me?! You\\'ve killed me is what you\\'ve done! You signed my death warrant! And now you want advice? Alright, I\\'ll give you advice: go to Mexico and screw up like I know you will and wind up in a barrel somewhere!\\n Yeah.\\n I wish I could take back last night. It was your birthday; this shouldn\\'t be on your mind.\\n No, it\\'s not OK. I\\'m your father. I don\\'t want last night to be... I mean, you really... you can\\'t think of me like...\\n My father died when I was six. You knew that, right?\\n He had Huntington\\'s disease. It destroys portions of the brain, affects muscle control, and leads to dementia. It\\'s just a nasty disease. It\\'s genetic. Terrified my mother that I might have it, so they ran tests on me when I was a kid, but I came up clean. My father fell very ill when I was four, five. Spent a lot of time in the hospital. My, heh, my mother would tell me so many stories about my father. I mean, she would talk about him all the time. I knew about his personality, how he treated people, I even knew how he liked his steaks cooked: medium rare, just like you. I knew things about my father, I had a lot of information. It was because people would tell me these things. They would paint this picture of my father for me and I always pretended that was who I saw too, that I remembered. But it was all a lie. In truth, I only have one real, actual memory of my father. It must have been right before he died. My mother would take me to the hospital to visit him. And I remember the smell in there. The chemicals. It was as if they used every single cleaning product they could find in a 50 mile radius, like they didn\\'t want you smelling the sick people. There was this stench of Lysol and bleach, you could just feel it coating your lungs. Anyway, there, lying on the bed, is my father. And he\\'s all... he\\'s all twisted up. My mom, she puts me on her lap, she\\'s sitting on the bed next to him so I can get a good look at him, but really he just scares me. And he\\'s looking right at me, but I can\\'t even be sure he knows who I am. And your grandmother is talking, trying to be cheerful as she does, but the only thing I could remember is him breathing. There was this... this rattling sound, like if you were shaking an empty spray paint can. Like there was nothing in him. Anyway, that is the only real memory that I have of my father. I don\\'t want you to think of me the way I was last night. I don\\'t want that to be the memory you have of me when I\\'m gone.\\n Or else you\\'ll do what?\\n Stay away from Pinkman...or else you\\'ll do...what? Kill me? If you could kill me, I\\'d already be dead. But you can\\'t. You can\\'t kill me because Jesse wouldn\\'t cook for you if you did. That\\'s it, isn\\'t it? [coughs] No matter how hard you try to turn him against me, to screw with his head, so that he would hate my guts...and he still won\\'t let you do it.\\n You can\\'t.\\n [panicking] Saul! This man we spoke of before, this, this person that you said could, could disappear me, give me a whole new life, and make sure I\\'m never found?\\n I need him! I need this man now! Saul, Gus is gonna murder my whole family.\\n Saul! Now, Saul!\\n Alright! Yes, I understand!\\n I have got no choice.\\n How much?\\n I\\'ve got the money, now come on! Please!\\n What?! This.. this is a vacuum cleaner repair company!\\n Where is it? Where\\'s the rest?\\n The money, Skyler, where is the rest? Skyler? WHERE IS THE MONEY?!\\n What? You did what?\\n You gave our money to Beneke?\\n AAAAAAAAAAAAAAAAAAHHHH!!! [Walter collapses crying, then breaks out in crazy laughter, as Skyler backs away to answer the phone]\\n Oh Skyler...\\n Skyler–\\n I have lived under the threat of death for a year now. And because of that, I\\'ve made choices.\\n Listen to me. I alone should suffer the consequences of those choices, no one else. And those consequences...they\\'re coming. No more prolonging the inevitable.\\n I don\\'t know what you\\'re thinking coming here. Aw Christ, what does it matter? Everything, it\\'s all coming to an end. Do you even know what\\'s happening? The full scope of what\\'s happening? They took me out to the desert, they put a hood over my head and drove me out into the desert on my knees. They threatened my family, and not just Hank. My wife, my children... It\\'s just a matter of time now. I was able to protect them for now, but...Gus is gonna make his move and...and I don\\'t know...I don\\'t know when or how. All I know is it\\'s gonna happen. And I\\'m powerless to stop it.\\n Jesse, why? Why, in God\\'s name, would I poison a child?\\n I DID NOT DO THIS!\\n I\\'m not, I\\'m not lying, Jesse, listen to me, listen to me, what would I have to gain, what possible...possible...who...who would...Oh my God... [Walter begins laughing]\\n I have been waiting...I\\'ve been waiting all day, waiting for Gus to send one of his men to kill me, and it\\'s you. Who do you know who\\'s OK with using children, Jesse, who do you know? Who\\'s allowed children to be murdered, hm? Gus! He has been ten steps ahead of me at every turn and now the one thing that he needed to finally get rid of me is your consent, and boy he\\'s got that now, he\\'s got it. And not only does he have that, but he manipulated you into pulling the trigger for him.\\n No! You don\\'t even believe that. Gus has cameras everywhere, please. Listen to yourself. No, he\\'s known everything all along. Where were you today? In the lab? And you don\\'t think it\\'s possible that Tyrus lifted the cigarette out of your locker? C\\'mon! Don\\'t you see? You are the last piece of the puzzle. You are everything that he\\'s wanted. You\\'re his cook now. You\\'re the cook and you have proven you can run a lab without me, and now that cook has reason to kill me. Think about it! It\\'s brilliant! So go ahead, if you think that I am capable of doing this, then go... [Walter grabs Jesse\\'s wrist and puts the gun on his own forehead] ...put a bullet in my head and kill me right now.\\n DO IT! Do it.\\n Do it. Do it.\\n Where are you going?\\n No, don\\'t, he\\'ll see you coming. You\\'ll die before you get anywhere near him.\\n Jesse, Jesse, just get in your car, just go, just drive.\\n Then let me help.\\n I know you despise me and I know how much you want to see me dead. But I\\'m willing to bet there\\'s a man that you hate even more. I\\'m offering you an opportunity for revenge.\\n [to Jesse] Gus is dead. We\\'ve got work to do.\\n How are you doing?\\n I\\'m, uh...I\\'m doing quite well. I\\'m good.\\n It\\'s over. We\\'re safe.\\n I won.\\n You going to show...I don\\'t know...some kind of mild relief that I\\'m alive?\\n Scared? Scared of what?\\n Mike. Where is the laptop?\\n All right. All right, so describe the building.\\n Who said that we have to get it out of there? We just need to destroy what\\'s on it.\\n I don\\'t believe I said that, no.\\n I never said anything about killing anybody. I am, however, considering the possibility of a device.\\n Yes, a small device. Say this device gets filed into evidence, now it is inside that room.\\n Bo— Who said bomb? I said a device...\\n ...an incendiary device. One quick fire is all it would take.\\n Right, so a bomb then. Maybe we plant a bomb outside.\\n Right, then we—\\n What magnet? What about it?\\n So what?\\n They won\\'t. There\\'s no prints. I made sure of that. There\\'s no paperwork on the truck, the magnet, or the batteries. Untraceable salvage, all of it. I made sure of that, too.\\n Yes. It worked.\\n Because I say so.\\n \"Let\\'s involve Walt in this discussion.\"\\n And you didn\\'t argue the point? You didn\\'t think to contact me?\\n Okay. So you took it upon yourself to give away $622,000 of my money to a man who had been sleeping with my wife.\\n \"Ethically?\" I\\'m sorry, I must be hearing things. Did you actually just use the word \"ethically\" in a sentence? You\\'re not Clarence Darrow, Saul. You\\'re a two-bit, bus-bench lawyer. And you work for me.\\n We\\'re done when I say we\\'re done.\\n [to Skyler] I forgive you.\\n [beat] Mike, I know you don\\'t care for me. We\\'ve had our issues, you and I. But, I would suggest that you leave emotion out of this decision.\\n Well, you missed a good meal. The lasagna came out very well, if I do say so myself. I wrapped some up if you\\'d like some later. [pause] You know, it gets easier. I promise you that it does. What you\\'re feeling right now. About Ted, everything. It\\'ll pass. So what we do, we do for good reasons. And we\\'ve got nothing to worry about. And there\\'s no better reason than family.\\n [to Saul] There is gold in the streets just waiting for someone to come and scoop it up.\\n Saul, Mike knows the business. He knows distributors.\\n Saul, Mike threatened me. He threatened Jesse. He probably threatened someone before breakfast this morning. It\\'s what he does. C\\'mon. Grow a pair.\\n Whoa, wait a minute. After the dealers got their cut, we should be looking at $1,379,560. Mike, you\\'re short. You\\'re almost $300,000 short.\\n What?\\n And so transportation is worth twenty percent?\\n $275,000 worth a risk? [scoffs] What did Gus pay his mules?\\n Gus Fring is dead, and he was the threat. He was the danger.\\n What blood? Beneke?\\n No.\\n Skyler, you can\\'t beat yourself up over this thing. Please. You didn\\'t set out to hurt anybody. You made a mistake and things got out of control. But you did what you had to do to protect your family. And I\\'m sorry, but that doesn\\'t make you a bad person. It makes you a human being.\\n \"That\\'s that?\" That\\'s what?\\n To a sleepover at their aunt and uncle\\'s? They spend a day or two, Junior stays up late watching movies, and then what happens?\\n No, I\\'ll tell you what happens. They come home, to this house, to their parents who love them—\\n How many times do I have to say that they are not in—\\n What are you going to do to stop it?\\n Like what? I mean specifically. What is your next move?\\n No, more like you\\'re still struggling. So maybe next time, I have you committed, put you in some inpatient facility while I take care of the kids myself. Is that what you want?\\n I see. So you involve Ted. Ah, well, that\\'ll be fun, bringing the police up to speed on all of that. But not as much as telling your sixteen-year-old son that his father is a wife-beater. Also not a very good plan. What else you got?\\n Oh. Now here\\'s the conversation: \"So honey, I know you\\'ve only got one year left in high school, but I would love it so much if you would drop everything, leave all your friends behind, and go to boarding school in Arizona.\" Do you have any other ideas? Because I\\'m not hearing a solution to your problem. How are you going to save our kids from this \"terrible\" environment?\\n What are you going to do? What, are you going to run off to France? Are you going to close the curtains, change the locks? This is a joke. Come on, Skyler! You want to take me on? You want to take away my children? What’s the plan?\\n Wait for what? What are you waiting for?\\n [to Skyler] See this watch? It’s a birthday present. The person who gave me this wanted me dead, too. Not that long ago, he pointed a gun right between my eyes right here and he threatened to kill me. He changed his mind about me, Skyler. And so will you.\\n No, go ahead.\\n Well, Jesse, it\\'s your idea, you want to fill him in?\\n Are you sure?\\n What\\'s going on?\\n It\\'s me. Open up.\\n Come on, Junior. I\\'m not going to ask twice.\\n You know what.\\n We\\'re not kicking you out of anywhere, son. We love you, and this is your house as much as it is ours. But your mom and I need some time alone, and you know that. We explained that to you.\\n This is not going to be a debate.\\n Because we\\'re your parents and you are our child. That\\'s reason enough. Now please, do as I ask. Now.\\n I don\\'t accept that. You\\'re my wife.\\n I think you\\'ve seen too many movies. [sighs] Our children are not in danger.\\n Have you heard of a company called Grey Matter? Well, I cofounded it in grad school with a couple of friends. Actually, I was the one who named it. And back then, it just, oh, small time. We had a couple of patents pending, but nothing Earth-shattering. Of course, we all knew the potential. Hell, we were gonna take the world by storm. And then, well, something happened between the three of us. I\\'m not going to go into detail, but for personal reasons I decided to leave the company. And I sold my share to my two partners. I took a buyout for $5,000. Now at the time, it was a lot of money for me. Care to guess what that company is worth now?\\n Billions. With a \\'B.\\' $2.16 billion as of last Friday. I look it up every week. And I sold my share, my potential, for $5,000. I sold my kids\\' birthright for a few months\\' rent.\\n Jesse, you asked me if I was in the meth business or the money business. Neither. I\\'m in the empire business.\\n You know, my kids are gone.\\n [to Jesse] My wife is waiting for me to die. This business is all I have left. All I have. And you want to take it away from me.\\n Uh huh. So it\\'s okay for you to steal my—\\n Mike!\\n Mike, let me cook it! I\\'ll double your five and you still walk!\\n Mike, you need to listen to me.\\n Everybody wins.\\n The methylamine isn’t coming.\\n I’m the man who’s keeping it.\\n Mike doesn’t know where it is; only I do, and you’re dealing with me now, not \\'em.\\n That thousand gallons of methylamine is worth more in my hands than it is in yours – or anyone else\\'s even, for that matter. But I need distribution.\\n That’s right. So if you agree to give up your cook and sell my product instead, I’ll give you 35% of the take.\\n I know all about your operation. See, my partners here tell me that you produce a meth that’s 70% pure, if you’re lucky. What I produce, is 99.1% pure ..\\n So, it\\'s grade-school tee-ball versus the New York Yankees. Yours is just some tepid, off-brand, generic cola. What I\\'m making is Classic Coke.\\n Do you really want to live in a world without Coca- Cola?\\n My partner tells me that your crew switched to a P2P cook because of our success. You dye your meth with food coloring to make it look like mine. You already ape my product at every turn. But now, you have the opportunity to sell it yourself.\\n A better high means customers pay more. A higher purity means a greater yield. That’s $130 million of profit that isn’t being pissed away by some sub-standard cook. Now you listen to me. You’ve got the greatest meth cook in Am– no, the two greatest meth cooks in America, right here. And with our skills, you’ll earn more from that 35% than you ever would on your own.\\n Mike is retiring from our crew. So his share of the partnership is available, if you can handle his end: distribution. And if you give him $5 million of the $15 million that you brought today. Just think of it as a finder’s fee for bringing us together. We have 40 pounds of product ready to ship. Ready to go. Are you ready?\\n You know. You all know exactly who I am. Say my name.\\n Yeah you do. I\\'m the cook. I\\'m the man who killed Gus Fring.\\n You sure?\\n That\\'s right. Now say my name.\\n [grin on face] You\\'re goddamn right.\\n Yeah, yeah, sure. Yeah.\\n Uh, look, you know what I think we need to talk about? Doubling down.\\n Mm-hmm. Cooking 100 pounds a week, not 50. As in, starting a new lab – a lab that you\\'ll run. A cook all of your own. Why not? You deserve it. You\\'re every bit as good as me. Well, what do you think?\\n Jesse, this... what we do... being the best at something is a very rare thing. You don\\'t just toss something like that away. And what? You want to squander that potential – your potential? Why? To do what?\\n Think. To do what, Jesse?\\n Look at you. What have you got in your life? Nothing. Nobody. Oh wait, yes – video games and go-carts. Oh, and when you get tired of that, what then? Huh? And how soon will you start using again? Look, I know how upset you are about what happened to this boy. I am just as upset as you are.\\n How can you say that to me? Jesus! I mean, I\\'m the one who\\'s a father! What, am I gonna curl up in a ball in tears in front of you, or am I gonna lock myself in a room and get high to prove it to you? What happened to that boy was a tragedy and it tears me up inside. But because it happened, am I supposed to just lie down and die with him? It\\'s done! It makes me sick that it happened, just like everyone else who has died in our wake. What Todd did... you and I have done things that are just as bad.\\n All the people that we\\'ve killed – Gale... and the rest. If you believe that there\\'s a Hell – I don\\'t know if you\\'re into that – but we\\'re already pretty much going there. But I\\'m not gonna lie down until I get there.\\n No one. None. Now that we\\'re in control, no one else gets hurt.\\n Before I hand this over, I need something from you.\\n The names of your nine men.\\n The point is, Mike, it affects me. It affects Jesse too, and we deserve to know.\\n \"Leave town.\" Wow. Yeah, I just can\\'t up and leave like you, Mike. I\\'ve got a family. I got people who depend on me.\\n You\\'re welcome!\\n I want those names, Mike. You owe me that much.\\n Wow. Wow. Oh, that\\'s some kind of logic right there, Mike. You screw up, get yourself followed by the DEA and now suddenly this is all my fault? Why don\\'t you walk me through this, Mike?\\n Oh, my God...\\n I just...I just realized that Lydia has the names. I can get \\'em from her. I\\'m sorry, Mike. This...this whole thing could have been avoided–\\n Mm-hmm.\\n He\\'s gone.\\n \"We?\" Who\\'s we? There is no we anymore. I\\'m the only vote left. And I\\'ll handle it.\\n So?\\n Not just now.\\n I think this will play just fine. I\\'m not thirsty. So let\\'s take a look at the list.\\n Lydia, I\\'ve come all this way. You do have the list?\\n Good.\\n And why is that?\\n I see. Then I suggest you pick up a pen.\\n It was my understanding that attending to these nine names was precisely what you wanted.\\n Yes, ten, counting the lawyer. So...what? Am I not tying up loose ends for our mutual benefit?\\n So you put that list in my hands, and in your mind, I immediately just murder you? Just right here, in this restaurant...\\n ...Right here in this public place, immediately?\\n Listen, Lydia. You made me promise on my children\\'s lives that I guarantee your safety.\\n Oh, yeah?\\n Marking trees?\\n Huh...sounds nice, being out in the woods all day.\\n How much is this?\\n Heh. You got me.\\n Hello, Carol.\\n Well, it’s good to see you up and about.\\n How you feeling?\\n Have you… Did you get to see a doctor? I mean, when one of these things last more than three days, you really should get that checked.\\n Um. Good, good to hear.\\n When I heard you weren’t going in to work, I… Well, looks like you have the work coming to you. Perks of being the boss, huh?\\n Good. Yeah, really good. Hey, did you have any of that potato salad?\\n No one else got sick, so you probably shouldn’t worry about it. Well, Skyler will be very happy to hear that you’re felling better. Which reminds me, I better get back to it. If there’s anything I can do…\\n Feel better.\\n You know. You\\'re going to laugh, but I have to ask you... about this.\\n Believe it or not, I found this on my car. I mean, it looks just like the GPS tracker that we used on Gus Fring, doesn\\'t it? Back when we were tracking him, just the two of us. You wouldn\\'t know anything about this, would you, Hank?\\n You okay? I gotta say, I don\\'t like the way you\\'re looking at me right now.\\n Hank.\\n Calm down.\\n Listen to me.\\n Hank, look... I don\\'t–I don\\'t know where this is coming from Hank, but–\\n Let\\'s take a breath, okay? Just listen to yourself. These wild accusations, they could destroy our family! And for what?\\n Hank, my cancer is back.\\n I\\'m sorry you feel that way. I wanna beat this thing. I do. I’m back on chemo, and I am fighting like hell. But the truth is in six months you won’t have someone to prosecute. But even– even if somehow you were able to convince anyone I was capable of doing these things, you and I both know I would never see the inside of a jail cell. I’m a dying man who runs a car wash. My right hand to God, that is all that I am. What’s the point?\\n That is not going to happen.\\n If that\\'s true – if you don\\'t know who I am – then maybe your best course would be to tread lightly.\\n That\\'s her.\\n I have to talk to her.\\n Can\\'t believe she went to him.\\n She went right to him without even talking to me. Without a moment\\'s hesitation.\\n Really, how much worse could it be? Exactly, in your estimation?\\n Nothing. Hank knows, that is not nothing.\\n Always what?\\n Belize?\\n Saul, you better not be saying what I think you\\'re saying.\\n Hank is family.\\n You understand that?\\n Jesus, what is wrong with you?\\n Jesus, send him to Belize. I\\'ll send you to Belize.\\n Does that make you happy?\\n Just tell me. I know you talked with Hank. I know you made a deal. Skyler, I\\'ll make this easy. I\\'ll give myself up if you promise me one thing: you keep the money. Never speak of it, never give it up. You pass it on to our children, give them everything. Will you do that? Please? Please, don\\'t let me have done all this for nothing.\\n My name is Walter Hartwell White. I live at 308 Negra Arroyo Lane, Albuquerque, New Mexico, 87104. This is my confession. If you\\'re watching this tape, I\\'m probably dead– murdered by my brother-in-law, Hank Schrader. Hank has been building a meth empire for over a year now, and using me as his chemist. Shortly after my 50th birthday, he asked that I use my chemistry knowledge to cook methamphetamine, which he would then sell using connections that he made through his career with the DEA. I was... astounded. I... I always thought Hank was a very moral man, and I was particularly vulnerable at the time – something he knew and took advantage of. I was reeling from a cancer diagnosis that was poised to bankrupt my family. Hank took me in on a ride-along and showed me just how much money even a small meth operation could make. And I was weak. I didn\\'t want my family to go into financial ruin, so I agreed. Hank had a partner, a businessman named Gustavo Fring. Hank sold me into servitude to this man. And when I tried to quit, Fring threatened my family. I didn\\'t know where to turn. Eventually, Hank and Fring had a falling-out. Things escalated. Fring was able to arrange – uh, I guess... I guess you call it a \"hit\" – on Hank, and failed, but Hank was seriously injured. And I wound up paying his medical bills, which amounted to a little over $177,000. Upon recovery, Hank was bent on revenge. Working with a man named Hector Salamanca, he plotted to kill Fring. The bomb that he used was built by me, and he gave me no option in it. I have often contemplated suicide, but I\\'m a coward. I wanted to go to the police, but I was frightened. Hank had risen to become the head of the Albuquerque DEA. To keep me in line, he took my children. For three months, he kept them. My wife had no idea of my criminal activities, and was horrified to learn what I had done. I was in hell. I hated myself for what I had brought upon my family. Recently, I tried once again to quit, and in response, he gave me this. [Walt points to the bruise on his face left by Hank in \"Blood Money.\"] I can\\'t take this anymore. I live in fear every day that Hank will kill me, or worse, hurt my family. All I could think to do was to make this video and hope that the world will finally see this man for what he really is.\\n Saul knows a man. He specializes in getting people new identities. He would move you someplace far away, set you up with a whole new life. Yeah, I know. It sounds a little extreme. But maybe it\\'s exactly what you need. You know, I really think that would be good for you. Clean slate. My, just think about it. You get a job. Something legitimate, something you like. Meet a girl, start a family even. Hell, you\\'re still so damn young. You know, what\\'s here for you now, anyway? I tell you, if I could, I\\'d trade places. Whole lifetime ahead of you, with a chance to hit the reset button. In a few years, this might all feel like nothing more than a bad dream.\\n What are you talking about?\\n Jesse, I am not working you.\\n Saul’s guy, Kuby, tracks him down, which shouldn’t take long, and when he does, I’m gonna… I’m gonna talk to him. Make him see reason.\\n No, what? Wh-what does that mean? My God.\\n I– I don’t know how we got off on whatever it is we’re talking about here. But clearly, I haven’t explained the situation well enough, because this is a big overreaction. We all need to just take a deep breath and calm down, because Jesse isn\\'t just some– some– some rabid dog. This is a person.\\n You\\'re s-saying that I just... What– what exactly are you saying?\\n [answering the phone] Hello?\\n Jesse, where are you? I just wanna talk to you.\\n One cook... after the job is done.\\n Jesse?\\n [running out of the car wash] Jesse…\\n Look, Jesse, I don’t know what you plan on doing here, but–\\n No, no, no, no, no! Jesse, please, listen to me–\\n Yes, I’m coming! Okay? Okay!\\n I get it, I get it! Okay!\\n I said I’m coming! Don\\'t you touch my money!\\n No. No, no, no, no, NO! Jesse– Jesse, please. I\\'m dying. My cancer is back. You\\'re not hurting anyone but my family. Okay? Look, I– I can\\'t spend this money. It\\'s not for me. I won\\'t be around long enough to use it. It belongs to my children.\\n I am sorry about Brock.\\n I am!\\n Yes, I am sorry about Brock! But he\\'s alive, isn\\'t he?! He\\'s fine, just as I planned it! Don\\'t you think I knew exactly how much to give him? That I had it all measured out?! Come on! Don\\'t you know me by now?\\n Open your eyes! Can\\'t you see that I needed you on my side to kill Gus?! I ran over those gangbangers! I killed Emilio and Krazy-8! Why? I did all of those things to try to save your life as much as mine, only you\\'re too stupid to know it!\\n [to Jesse] Coward.\\n No! Jack! No! Jack! Jack! Jack! No! No! Don’t! Jack! Don’t! No!\\n No! Jack! Jack! No! [walks toward Jack] Jack! No! Don’t kill him.\\n [walks toward Jack] Don’t kill him. Don’t kill him. Jack.\\n No. He’s– He’s family.\\n He’s my family. He’s my brother-in-law.\\n I called you off, remember? I told you not to come.\\n You weren’t supposed to be here.\\n It doesn’t– doesn’t matter. It doesn’t concern you.\\n This is... between him and me.\\n No.\\n [to Jack] No! No, no. Jack, Jack! No. The DEA doesn’t know about this. Not yet. [to Hank] Hank, nothing can change what just happened, but you can walk out of here alive if you just promise us that you’ll– you’ll let this go.\\n No, no, no, listen! I have money! It’s buried right here. It’s here. It’s $80 million. $80 million.\\n You can– you can go anywhere. You can do anything. Just think about that. You can have any future that you want. Jack. Eighty. Million. All you’ve got to do is let him go.\\n It\\'s Hank. His name is Hank.\\n Hank... listen to me. You gotta tell him. You gotta tell him now that we can work this out. Please. Please.\\n [to Jesse] I watched Jane die. I was there. And I watched her die. I watched her overdose and choke to death. I could have saved her. But I didn\\'t.\\n Skyler, please, will you just go get your things? For you and your kids. Right now. This is our priority.\\n I–\\n I… I negotiated…\\n Um, yes.\\n It means… we are fine, okay? We are. We’re fine. Everything is gonna be fine. But we need to leave right now. All right? Can we do that?\\n I need both of you to trust me. Right now, okay? Please just work with me here, and I promise I will explain everything later, okay?\\n Skyler. [walking toward her] I have $11 million in cash right outside. We can have a fresh start. Whole new lives. All we have to do is go. We have to go right now. That’s all we have to do.\\n No. No. No.\\n No. No! NO! I tried to save him.\\n Just stop, please.\\n Everything- everything is gonna be okay. Everything’s gonna be fine. I promise you. But we need to leave right now.\\n Are you alone? No police?\\n What the hell is wrong with you? Why can\\'t you do one thing I say?\\n This is your fault. This is what comes of your disrespect. I told you, Skyler. I warned you for a solid year. You cross me, there will be consequences. What part of that didn\\'t you understand?\\n \\'Cause you need to learn.\\n Maybe now you\\'ll listen. Maybe now you\\'ll use your damn head. You know, you never believed in me. You were never grateful for anything I did for this family. [imitates Skyler\\'s voice] \"Oh, no. Walt. Walt, you have to stop. You have to stop this. It\\'s immoral. It\\'s illegal. Someone might get hurt.\" You\\'re always whining and complaining about how I make my money, just dragging me down. While I do everything. And now– now you tell my son what I do after I\\'ve told you and told you to keep your damn mouth shut. You stupid bitch. How dare you?\\n You, you have no right to discuss anything about what I do. Oh, what– what the hell do you know about it anyway? Nothing. I built this. Me. Me alone. Nobody else!\\n You mark my words, Skyler. Toe the line, or you will wind up just like Hank.\\n You\\'re never gonna see Hank again.\\n He crossed me. You think about that. Family or no. You let that sink in.\\n [long pause, as he stifles a sob] I\\'ve still got things left to do.\\n ...What?\\n You know what, make yourself useful. Give me a list of hitters, mercenaries. Yes, yes, I remember – you\\'ve got \"concerns.\" Don\\'t worry, we\\'ll take the time to vet them. Make sure there are no undercover cops on the team. Five should do it, providing they\\'re the right men for the job.\\n Jack Welker and his men. They murdered Hank. They stole my life\\'s work.\\n You know a guy who knows a guy– Just give me the contacts. Anybody in that world. I\\'m paying top dollar. We\\'ll find them.\\n \"Some people\" would be ignorant on the facts. \"Some people\" wouldn\\'t know that as far as the police are concerned, Skyler is a blameless victim.\\n No no no, go ahead. Get it off your chest. Go on.\\n There\\'s no point. She knows nothing.\\n Money\\'s no problem.\\n So you propose what?\\n No, no, no...\\n God, do you think I want to run?! That\\'s the last thing that I want! This... this changes nothing. What I do I do for my family. My money goes to my children! Not just this barrel – all of it! I\\'m going to kill Jack and his entire crew, and I\\'m going to take back what is mine and give it to my children, and then – and only then – am I through! Do you understand?\\n Change of plans. He\\'s coming with me.\\n We\\'re going together. I can use him.\\n You\\'re still a part of this, whether you like it or not.\\n You remember what I told you? It\\'s not over until–\\n Son, it’s me. Please don’t let on. Carmen’s nearby, right? She cannot know. Son, are you there?\\n It’s so good to hear your voice. I– I… I, uh… Son, the things that they’re saying… about me… I did wrong. I– I’ve made some terrible mistakes. But the reason were always… Things happened that… I– I never… intended. I never intended. Listen. Son, we don’t have much time. Is Louis’ family still at 4848 Newcombe? Son, your friend Louis Corbett, does his family still live in that same place up on Newcombe?\\n Okay, good. Okay, he’s– he’s a good kid. He’s– he’s like you. He’ll understand. I’m sending Louis a package. Now, it’s addressed to Louis, but it’s for you, your mother and your sister. There’s– there’s money inside. About $100,000. Okay? I think. It was all that I could fit into the box. It has to be a secret. And if anyone says a word, the police will take it. I wanted to give you so much more. But this is all I could do. Do you understand? Son? Can you hear me? Do you understand?\\n Yes. Good. Good, good. So, you’ll– you’ll talk to Louis, right?\\n Wait. Wait, son.\\n Listen to me. You’ve got to listen to me.\\n You need this money. Your mother–\\n Your mother needs this money. It can’t all be for nothing.\\n Please.\\n Please.\\n I... I would like to speak to the agent in charge of the Walter White investigation.\\n ...Walter White.\\n [to Elliott, who is threatening him with a fruit knife] Elliott, if we\\'re gonna go that way, you\\'ll need a bigger knife.\\n Keep stacking. It’ll all fit.\\n That’s all right. Just– Just throw it on top. Gretchen, would you mind? We don’t want to lose any under the furniture. [Gretchen picks up the dropped stacks.] All right. That is $9,720,000.\\n I earned it. And you’re going to give it to my children.\\n On my son’s 18th birthday, which is 10 months and 2 days from today, you will give him this money in the form of an irrevocable trust. You will tell him it is his to do with as he sees fit, but with the hope that he uses it for his college education and for the betterment of his family.\\n I can’t. My wife and son hate me. They won’t take my money. Even if they did, the federal government wouldn’t let them. But two rich benefactors, who are known for their charitable endeavors, who would think nothing of, for instance, writing a $28 million check to help victims of methamphetamine abuse. I have to think that your money would be very welcome.\\n It certainly would. My children are blameless victims of their monstrous father, a man who you once knew quite well. Call it a beau geste. Call it liberal guilt. Call it whatever you want, but do it. And you are not to spend a single dime of your own money. If there are taxes or lawyers’ fees owed, you will take it right from here. They use my money, never yours.\\n I guess we shake on it. And I leave.\\n I can trust you to do this.\\n Don’t move, Don’t... Don’t dare move a muscle. You don’t want them to think that you’re trying to get away. Just breathe. Just this afternoon, I had an extra $200,000 that I would have loved dearly to leave on top of this table. Instead, I gave it to the two best hitmen west of the Mississippi. Now, whatever happens to me tomorrow, they’ll still be out there keeping tabs. And if, for any reason, my children do not get this money, a kind of… countdown will begin. Maybe a day or so later, maybe a week, a year, when you’re going for a walk in Santa Fe or Manhattan or Prague, wherever. And you’re… talking about your stock prices… without a worry in the world, and then suddenly, you’ll hear the scrape of a footstep behind you, and before you can even turn around... pop!\\n Darkness. [putting his arms around Elliott and Gretchen] Cheer up, beautiful people. This is where you get to make it right.\\n How do you feel now?\\n He did. And I don\\'t have any to give you. I spent the last of it getting here. All I have to give you is this. [takes out a lottery ticket and hands it to Skyler] Call the DEA once I leave. Tell them I was here. That I forced my way in. Tell them... Tell them I wanted bacon and eggs on my birthday. And that I gave you that ticket. Those numbers are GPS coordinates.\\n A burial site. That\\'s where they will find Hank and Steve Gomez. [Skyler weeps] That\\'s where I buried our money. The men who stole it from us. The men who still have it. They murdered Hank and Steve and put them in that hole. Now you trade that for a deal with the prosecutor. Get yourself out of this. Skyler. Skyler. All the things that I did, you need to understand–\\n I did it for me. I liked it. I was good at it. And... I was... really... I was alive.\\n Do it. You want this.\\n I want this.\\n Hello?\\n Yeah, it\\'s done. He\\'s gone. They\\'re all gone.\\n It\\'s Walt. How are you feeling? Kind of under the weather? Like you\\'ve got the flu? That would be the ricin I gave you. I slipped it into that stevia crap that you\\'re always putting in your tea.\\n Well... goodbye, Lydia.\\n'"
      ]
     },
     "execution_count": 5,
     "metadata": {},
     "output_type": "execute_result"
    }
   ],
   "source": [
    "bb_chars['Walter']"
   ]
  },
  {
   "cell_type": "code",
   "execution_count": 10,
   "metadata": {},
   "outputs": [],
   "source": [
    "import pandas as pd\n",
    "df6 = pd.DataFrame([x for x in bb_chars['Walter'].split('\\n')])\n",
    "\n",
    "df5 = pd.DataFrame([x for x in bb_chars['Skyler'].split('\\n')])\n",
    "\n",
    "df4 = pd.DataFrame([x for x in bb_chars['Jesse'].split('\\n')])\n",
    "df3 = pd.DataFrame([x for x in bb_chars['Hank'].split('\\n')])\n",
    "\n",
    "df2 = pd.DataFrame([x for x in bb_chars['Marie'].split('\\n')])\n",
    "df1 = pd.DataFrame([x for x in bb_chars['Heisenberg'].split('\\n')])"
   ]
  },
  {
   "cell_type": "code",
   "execution_count": 12,
   "metadata": {},
   "outputs": [
    {
     "data": {
      "text/html": [
       "<div>\n",
       "<style scoped>\n",
       "    .dataframe tbody tr th:only-of-type {\n",
       "        vertical-align: middle;\n",
       "    }\n",
       "\n",
       "    .dataframe tbody tr th {\n",
       "        vertical-align: top;\n",
       "    }\n",
       "\n",
       "    .dataframe thead th {\n",
       "        text-align: right;\n",
       "    }\n",
       "</style>\n",
       "<table border=\"1\" class=\"dataframe\">\n",
       "  <thead>\n",
       "    <tr style=\"text-align: right;\">\n",
       "      <th></th>\n",
       "      <th>0</th>\n",
       "    </tr>\n",
       "  </thead>\n",
       "  <tbody>\n",
       "    <tr>\n",
       "      <th>0</th>\n",
       "      <td>Chemotherapy and marijuana go together like a...</td>\n",
       "    </tr>\n",
       "    <tr>\n",
       "      <th>1</th>\n",
       "      <td>Well, which supermarket? Is it like a big one...</td>\n",
       "    </tr>\n",
       "    <tr>\n",
       "      <th>2</th>\n",
       "      <td>Don't get me wrong. I think it's just great t...</td>\n",
       "    </tr>\n",
       "    <tr>\n",
       "      <th>3</th>\n",
       "      <td>You made one mistake.</td>\n",
       "    </tr>\n",
       "    <tr>\n",
       "      <th>4</th>\n",
       "      <td>You can do this, Hank. Come on. It's supposed...</td>\n",
       "    </tr>\n",
       "  </tbody>\n",
       "</table>\n",
       "</div>"
      ],
      "text/plain": [
       "                                                   0\n",
       "0   Chemotherapy and marijuana go together like a...\n",
       "1   Well, which supermarket? Is it like a big one...\n",
       "2   Don't get me wrong. I think it's just great t...\n",
       "3                              You made one mistake.\n",
       "4   You can do this, Hank. Come on. It's supposed..."
      ]
     },
     "execution_count": 12,
     "metadata": {},
     "output_type": "execute_result"
    }
   ],
   "source": [
    "df2.head()"
   ]
  },
  {
   "cell_type": "code",
   "execution_count": 14,
   "metadata": {},
   "outputs": [
    {
     "data": {
      "text/plain": [
       "(791, 1)"
      ]
     },
     "execution_count": 14,
     "metadata": {},
     "output_type": "execute_result"
    }
   ],
   "source": [
    "df6.shape"
   ]
  },
  {
   "cell_type": "code",
   "execution_count": 15,
   "metadata": {},
   "outputs": [],
   "source": [
    "listOfScores1 = ['Walter'] *df6.shape[0]\n",
    "listOfScores2 = ['Skyler'] *df5.shape[0]\n",
    "listOfScores3 = ['Jesse'] *df4.shape[0]\n",
    "listOfScores4 = ['Hank'] *df3.shape[0]\n",
    "listOfScores5 = ['Marie'] *df2.shape[0]\n"
   ]
  },
  {
   "cell_type": "code",
   "execution_count": 16,
   "metadata": {},
   "outputs": [],
   "source": [
    "df6['Score'] = listOfScores1\n",
    "df5['Score'] = listOfScores2 \n",
    "df4['Score'] = listOfScores3\n",
    "df3['Score'] = listOfScores4\n",
    "df2['Score'] = listOfScores5\n"
   ]
  },
  {
   "cell_type": "code",
   "execution_count": 17,
   "metadata": {},
   "outputs": [],
   "source": [
    "df2=df2.rename(columns={0: 'dialogue'})\n",
    "df3=df3.rename(columns={0: 'dialogue'})\n",
    "df4=df4.rename(columns={0: 'dialogue'})\n",
    "df5=df5.rename(columns={0: 'dialogue'})\n",
    "df6=df6.rename(columns={0: 'dialogue'})"
   ]
  },
  {
   "cell_type": "code",
   "execution_count": 18,
   "metadata": {},
   "outputs": [
    {
     "data": {
      "text/html": [
       "<div>\n",
       "<style scoped>\n",
       "    .dataframe tbody tr th:only-of-type {\n",
       "        vertical-align: middle;\n",
       "    }\n",
       "\n",
       "    .dataframe tbody tr th {\n",
       "        vertical-align: top;\n",
       "    }\n",
       "\n",
       "    .dataframe thead th {\n",
       "        text-align: right;\n",
       "    }\n",
       "</style>\n",
       "<table border=\"1\" class=\"dataframe\">\n",
       "  <thead>\n",
       "    <tr style=\"text-align: right;\">\n",
       "      <th></th>\n",
       "      <th>dialogue</th>\n",
       "      <th>Score</th>\n",
       "    </tr>\n",
       "  </thead>\n",
       "  <tbody>\n",
       "    <tr>\n",
       "      <th>786</th>\n",
       "      <td>Hello?</td>\n",
       "      <td>Walter</td>\n",
       "    </tr>\n",
       "    <tr>\n",
       "      <th>787</th>\n",
       "      <td>Yeah, it's done. He's gone. They're all gone.</td>\n",
       "      <td>Walter</td>\n",
       "    </tr>\n",
       "    <tr>\n",
       "      <th>788</th>\n",
       "      <td>It's Walt. How are you feeling? Kind of under...</td>\n",
       "      <td>Walter</td>\n",
       "    </tr>\n",
       "    <tr>\n",
       "      <th>789</th>\n",
       "      <td>Well... goodbye, Lydia.</td>\n",
       "      <td>Walter</td>\n",
       "    </tr>\n",
       "    <tr>\n",
       "      <th>790</th>\n",
       "      <td></td>\n",
       "      <td>Walter</td>\n",
       "    </tr>\n",
       "  </tbody>\n",
       "</table>\n",
       "</div>"
      ],
      "text/plain": [
       "                                              dialogue   Score\n",
       "786                                             Hello?  Walter\n",
       "787      Yeah, it's done. He's gone. They're all gone.  Walter\n",
       "788   It's Walt. How are you feeling? Kind of under...  Walter\n",
       "789                            Well... goodbye, Lydia.  Walter\n",
       "790                                                     Walter"
      ]
     },
     "execution_count": 18,
     "metadata": {},
     "output_type": "execute_result"
    }
   ],
   "source": [
    "df = pd.concat([df2,df3,df4,df5,df6])\n",
    "df.tail()"
   ]
  },
  {
   "cell_type": "code",
   "execution_count": 19,
   "metadata": {},
   "outputs": [
    {
     "data": {
      "text/html": [
       "<div>\n",
       "<style scoped>\n",
       "    .dataframe tbody tr th:only-of-type {\n",
       "        vertical-align: middle;\n",
       "    }\n",
       "\n",
       "    .dataframe tbody tr th {\n",
       "        vertical-align: top;\n",
       "    }\n",
       "\n",
       "    .dataframe thead th {\n",
       "        text-align: right;\n",
       "    }\n",
       "</style>\n",
       "<table border=\"1\" class=\"dataframe\">\n",
       "  <thead>\n",
       "    <tr style=\"text-align: right;\">\n",
       "      <th></th>\n",
       "      <th>Score</th>\n",
       "      <th>dialogue</th>\n",
       "      <th>category_id</th>\n",
       "    </tr>\n",
       "  </thead>\n",
       "  <tbody>\n",
       "    <tr>\n",
       "      <th>786</th>\n",
       "      <td>Walter</td>\n",
       "      <td>Hello?</td>\n",
       "      <td>4</td>\n",
       "    </tr>\n",
       "    <tr>\n",
       "      <th>787</th>\n",
       "      <td>Walter</td>\n",
       "      <td>Yeah, it's done. He's gone. They're all gone.</td>\n",
       "      <td>4</td>\n",
       "    </tr>\n",
       "    <tr>\n",
       "      <th>788</th>\n",
       "      <td>Walter</td>\n",
       "      <td>It's Walt. How are you feeling? Kind of under...</td>\n",
       "      <td>4</td>\n",
       "    </tr>\n",
       "    <tr>\n",
       "      <th>789</th>\n",
       "      <td>Walter</td>\n",
       "      <td>Well... goodbye, Lydia.</td>\n",
       "      <td>4</td>\n",
       "    </tr>\n",
       "    <tr>\n",
       "      <th>790</th>\n",
       "      <td>Walter</td>\n",
       "      <td></td>\n",
       "      <td>4</td>\n",
       "    </tr>\n",
       "  </tbody>\n",
       "</table>\n",
       "</div>"
      ],
      "text/plain": [
       "      Score                                           dialogue  category_id\n",
       "786  Walter                                             Hello?            4\n",
       "787  Walter      Yeah, it's done. He's gone. They're all gone.            4\n",
       "788  Walter   It's Walt. How are you feeling? Kind of under...            4\n",
       "789  Walter                            Well... goodbye, Lydia.            4\n",
       "790  Walter                                                               4"
      ]
     },
     "execution_count": 19,
     "metadata": {},
     "output_type": "execute_result"
    }
   ],
   "source": [
    "from io import StringIO\n",
    "col = ['Score', 'dialogue']\n",
    "df = df[col]\n",
    "df = df[pd.notnull(df['dialogue'])]\n",
    "df.columns = ['Score', 'dialogue']\n",
    "df['category_id'] = df['Score'].factorize()[0]\n",
    "category_id_df = df[['Score', 'category_id']].drop_duplicates().sort_values('category_id')\n",
    "category_to_id = dict(category_id_df.values)\n",
    "id_to_category = dict(category_id_df[['category_id', 'Score']].values)\n",
    "df.tail()\n"
   ]
  },
  {
   "cell_type": "code",
   "execution_count": 20,
   "metadata": {},
   "outputs": [],
   "source": [
    "%matplotlib inline\n",
    "%config InlineBackend.figure_format = 'retina'\n",
    "import matplotlib.pyplot as plt\n"
   ]
  },
  {
   "cell_type": "code",
   "execution_count": 21,
   "metadata": {},
   "outputs": [
    {
     "data": {
      "image/png": "[encoded data removed]",
      "text/plain": [
       "<Figure size 576x432 with 1 Axes>"
      ]
     },
     "metadata": {
      "image/png": {
       "height": 395,
       "width": 488
      },
      "needs_background": "light"
     },
     "output_type": "display_data"
    }
   ],
   "source": [
    "import matplotlib.pyplot as plt\n",
    "fig = plt.figure(figsize=(8,6))\n",
    "df.groupby('Score').dialogue.count().plot.bar(ylim=0)\n",
    "plt.show()"
   ]
  },
  {
   "cell_type": "code",
   "execution_count": 22,
   "metadata": {},
   "outputs": [
    {
     "data": {
      "text/plain": [
       "(1558, 471)"
      ]
     },
     "execution_count": 22,
     "metadata": {},
     "output_type": "execute_result"
    }
   ],
   "source": [
    "from sklearn.feature_extraction.text import TfidfVectorizer\n",
    "tfidf = TfidfVectorizer(sublinear_tf=True, min_df=5, norm='l2', encoding='latin-1', ngram_range=(1, 2), stop_words='english')\n",
    "features = tfidf.fit_transform(df.dialogue).toarray()\n",
    "labels = df.Score\n",
    "features.shape"
   ]
  },
  {
   "cell_type": "code",
   "execution_count": 23,
   "metadata": {},
   "outputs": [
    {
     "name": "stdout",
     "output_type": "stream",
     "text": [
      "# 'Hank':\n",
      "  . Most correlated unigrams:\n",
      ". going\n",
      ". yo\n",
      "  . Most correlated bigrams:\n",
      ". know don\n",
      ". gus fring\n",
      "# 'Jesse':\n",
      "  . Most correlated unigrams:\n",
      ". going\n",
      ". yo\n",
      "  . Most correlated bigrams:\n",
      ". know don\n",
      ". gus fring\n",
      "# 'Marie':\n",
      "  . Most correlated unigrams:\n",
      ". going\n",
      ". yo\n",
      "  . Most correlated bigrams:\n",
      ". know don\n",
      ". gus fring\n",
      "# 'Skyler':\n",
      "  . Most correlated unigrams:\n",
      ". going\n",
      ". yo\n",
      "  . Most correlated bigrams:\n",
      ". know don\n",
      ". gus fring\n",
      "# 'Walter':\n",
      "  . Most correlated unigrams:\n",
      ". going\n",
      ". yo\n",
      "  . Most correlated bigrams:\n",
      ". know don\n",
      ". gus fring\n"
     ]
    }
   ],
   "source": [
    "from sklearn.feature_selection import chi2\n",
    "import numpy as np\n",
    "N = 2\n",
    "for Score, category_id in sorted(category_to_id.items()):\n",
    "  features_chi2 = chi2(features, labels == category_id)\n",
    "  indices = np.argsort(features_chi2[0])\n",
    "  feature_names = np.array(tfidf.get_feature_names())[indices]\n",
    "  unigrams = [v for v in feature_names if len(v.split(' ')) == 1]\n",
    "  bigrams = [v for v in feature_names if len(v.split(' ')) == 2]\n",
    "  print(\"# '{}':\".format(Score))\n",
    "  print(\"  . Most correlated unigrams:\\n. {}\".format('\\n. '.join(unigrams[-N:])))\n",
    "  print(\"  . Most correlated bigrams:\\n. {}\".format('\\n. '.join(bigrams[-N:])))"
   ]
  },
  {
   "cell_type": "code",
   "execution_count": 24,
   "metadata": {},
   "outputs": [],
   "source": [
    "from sklearn.model_selection import train_test_split\n",
    "from sklearn.feature_extraction.text import CountVectorizer\n",
    "from sklearn.feature_extraction.text import TfidfTransformer\n",
    "from sklearn.naive_bayes import MultinomialNB\n",
    "X_train, X_test, y_train, y_test = train_test_split(df['dialogue'], df['Score'], random_state = 0)\n",
    "count_vect = CountVectorizer()\n",
    "X_train_counts = count_vect.fit_transform(X_train)\n",
    "tfidf_transformer = TfidfTransformer()\n",
    "X_train_tfidf = tfidf_transformer.fit_transform(X_train_counts)\n",
    "clf = MultinomialNB().fit(X_train_tfidf, y_train)"
   ]
  },
  {
   "cell_type": "code",
   "execution_count": 17,
   "metadata": {},
   "outputs": [
    {
     "name": "stdout",
     "output_type": "stream",
     "text": [
      "['Ross']\n"
     ]
    }
   ],
   "source": [
    "print(clf.predict(count_vect.transform([\"Yeah, well you promised Barry, you d marry him. (Rachel glares at her, and she retreats to safety between Richards legs)\"])))"
   ]
  },
  {
   "cell_type": "code",
   "execution_count": 18,
   "metadata": {},
   "outputs": [
    {
     "name": "stdout",
     "output_type": "stream",
     "text": [
      "['Phoebe']\n"
     ]
    }
   ],
   "source": [
    "print(clf.predict(count_vect.transform([\"And I will be using his dead body as a shield\"])))"
   ]
  },
  {
   "cell_type": "code",
   "execution_count": 19,
   "metadata": {},
   "outputs": [
    {
     "name": "stdout",
     "output_type": "stream",
     "text": [
      "Requirement already satisfied: seaborn in /usr/local/lib/python3.7/site-packages (0.9.0)\n",
      "Requirement already satisfied: pandas>=0.15.2 in /usr/local/lib/python3.7/site-packages (from seaborn) (0.24.2)\n",
      "Requirement already satisfied: matplotlib>=1.4.3 in /usr/local/lib/python3.7/site-packages (from seaborn) (3.0.3)\n",
      "Requirement already satisfied: numpy>=1.9.3 in /usr/local/lib/python3.7/site-packages (from seaborn) (1.16.2)\n",
      "Requirement already satisfied: scipy>=0.14.0 in /usr/local/lib/python3.7/site-packages (from seaborn) (1.2.1)\n",
      "Requirement already satisfied: python-dateutil>=2.5.0 in /usr/local/lib/python3.7/site-packages (from pandas>=0.15.2->seaborn) (2.8.0)\n",
      "Requirement already satisfied: pytz>=2011k in /usr/local/lib/python3.7/site-packages (from pandas>=0.15.2->seaborn) (2018.9)\n",
      "Requirement already satisfied: cycler>=0.10 in /usr/local/lib/python3.7/site-packages (from matplotlib>=1.4.3->seaborn) (0.10.0)\n",
      "Requirement already satisfied: kiwisolver>=1.0.1 in /usr/local/lib/python3.7/site-packages (from matplotlib>=1.4.3->seaborn) (1.0.1)\n",
      "Requirement already satisfied: pyparsing!=2.0.4,!=2.1.2,!=2.1.6,>=2.0.1 in /usr/local/lib/python3.7/site-packages (from matplotlib>=1.4.3->seaborn) (2.4.0)\n",
      "Requirement already satisfied: six>=1.5 in /usr/local/lib/python3.7/site-packages (from python-dateutil>=2.5.0->pandas>=0.15.2->seaborn) (1.12.0)\n",
      "Requirement already satisfied: setuptools in /usr/local/lib/python3.7/site-packages (from kiwisolver>=1.0.1->matplotlib>=1.4.3->seaborn) (41.0.1)\n",
      "\u001b[33mWARNING: You are using pip version 19.1.1, however version 19.2.1 is available.\n",
      "You should consider upgrading via the 'pip install --upgrade pip' command.\u001b[0m\n"
     ]
    }
   ],
   "source": [
    "!pip3 install seaborn\n"
   ]
  },
  {
   "cell_type": "code",
   "execution_count": 25,
   "metadata": {},
   "outputs": [
    {
     "name": "stderr",
     "output_type": "stream",
     "text": [
      "/usr/local/lib/python3.7/site-packages/sklearn/linear_model/logistic.py:432: FutureWarning: Default solver will be changed to 'lbfgs' in 0.22. Specify a solver to silence this warning.\n",
      "  FutureWarning)\n",
      "/usr/local/lib/python3.7/site-packages/sklearn/linear_model/logistic.py:469: FutureWarning: Default multi_class will be changed to 'auto' in 0.22. Specify the multi_class option to silence this warning.\n",
      "  \"this warning.\", FutureWarning)\n",
      "/usr/local/lib/python3.7/site-packages/sklearn/linear_model/logistic.py:432: FutureWarning: Default solver will be changed to 'lbfgs' in 0.22. Specify a solver to silence this warning.\n",
      "  FutureWarning)\n",
      "/usr/local/lib/python3.7/site-packages/sklearn/linear_model/logistic.py:469: FutureWarning: Default multi_class will be changed to 'auto' in 0.22. Specify the multi_class option to silence this warning.\n",
      "  \"this warning.\", FutureWarning)\n",
      "/usr/local/lib/python3.7/site-packages/sklearn/linear_model/logistic.py:432: FutureWarning: Default solver will be changed to 'lbfgs' in 0.22. Specify a solver to silence this warning.\n",
      "  FutureWarning)\n",
      "/usr/local/lib/python3.7/site-packages/sklearn/linear_model/logistic.py:469: FutureWarning: Default multi_class will be changed to 'auto' in 0.22. Specify the multi_class option to silence this warning.\n",
      "  \"this warning.\", FutureWarning)\n",
      "/usr/local/lib/python3.7/site-packages/sklearn/linear_model/logistic.py:432: FutureWarning: Default solver will be changed to 'lbfgs' in 0.22. Specify a solver to silence this warning.\n",
      "  FutureWarning)\n",
      "/usr/local/lib/python3.7/site-packages/sklearn/linear_model/logistic.py:469: FutureWarning: Default multi_class will be changed to 'auto' in 0.22. Specify the multi_class option to silence this warning.\n",
      "  \"this warning.\", FutureWarning)\n",
      "/usr/local/lib/python3.7/site-packages/sklearn/linear_model/logistic.py:432: FutureWarning: Default solver will be changed to 'lbfgs' in 0.22. Specify a solver to silence this warning.\n",
      "  FutureWarning)\n",
      "/usr/local/lib/python3.7/site-packages/sklearn/linear_model/logistic.py:469: FutureWarning: Default multi_class will be changed to 'auto' in 0.22. Specify the multi_class option to silence this warning.\n",
      "  \"this warning.\", FutureWarning)\n"
     ]
    },
    {
     "data": {
      "image/png": "[encoded data removed]",
      "text/plain": [
       "<Figure size 432x288 with 1 Axes>"
      ]
     },
     "metadata": {
      "image/png": {
       "height": 264,
       "width": 397
      },
      "needs_background": "light"
     },
     "output_type": "display_data"
    }
   ],
   "source": [
    "from sklearn.linear_model import LogisticRegression\n",
    "from sklearn.ensemble import RandomForestClassifier\n",
    "from sklearn.svm import LinearSVC\n",
    "from sklearn.model_selection import cross_val_score\n",
    "models = [\n",
    "    RandomForestClassifier(n_estimators=200, max_depth=3, random_state=0),\n",
    "    LinearSVC(),\n",
    "    MultinomialNB(),\n",
    "    LogisticRegression(random_state=0),\n",
    "]\n",
    "CV = 5\n",
    "cv_df = pd.DataFrame(index=range(CV * len(models)))\n",
    "entries = []\n",
    "for model in models:\n",
    "  model_name = model.__class__.__name__\n",
    "  accuracies = cross_val_score(model, features, labels, scoring='accuracy', cv=CV)\n",
    "  for fold_idx, accuracy in enumerate(accuracies):\n",
    "    entries.append((model_name, fold_idx, accuracy))\n",
    "cv_df = pd.DataFrame(entries, columns=['model_name', 'fold_idx', 'accuracy'])\n",
    "import seaborn as sns\n",
    "sns.boxplot(x='model_name', y='accuracy', data=cv_df)\n",
    "sns.stripplot(x='model_name', y='accuracy', data=cv_df, \n",
    "              size=8, jitter=True, edgecolor=\"gray\", linewidth=2)\n",
    "plt.show()\n"
   ]
  },
  {
   "cell_type": "code",
   "execution_count": 26,
   "metadata": {},
   "outputs": [
    {
     "data": {
      "text/plain": [
       "model_name\n",
       "LinearSVC                 0.520014\n",
       "LogisticRegression        0.559075\n",
       "MultinomialNB             0.549480\n",
       "RandomForestClassifier    0.523780\n",
       "Name: accuracy, dtype: float64"
      ]
     },
     "execution_count": 26,
     "metadata": {},
     "output_type": "execute_result"
    }
   ],
   "source": [
    "cv_df.groupby('model_name').accuracy.mean()\n"
   ]
  },
  {
   "cell_type": "code",
   "execution_count": 27,
   "metadata": {},
   "outputs": [
    {
     "data": {
      "image/png": "[encoded data removed]",
      "text/plain": [
       "<Figure size 720x720 with 2 Axes>"
      ]
     },
     "metadata": {
      "image/png": {
       "height": 589,
       "width": 572
      },
      "needs_background": "light"
     },
     "output_type": "display_data"
    }
   ],
   "source": [
    "model = LinearSVC()\n",
    "X_train, X_test, y_train, y_test, indices_train, indices_test = train_test_split(features, labels, df.index, test_size=0.33, random_state=0)\n",
    "model.fit(X_train, y_train)\n",
    "y_pred = model.predict(X_test)\n",
    "from sklearn.metrics import confusion_matrix\n",
    "conf_mat = confusion_matrix(y_test, y_pred)\n",
    "fig, ax = plt.subplots(figsize=(10,10))\n",
    "sns.heatmap(conf_mat, annot=True, fmt='d',\n",
    "            xticklabels=category_id_df.Score.values, yticklabels=category_id_df.Score.values)\n",
    "plt.ylabel('Actual')\n",
    "plt.xlabel('Predicted')\n",
    "plt.show()\n"
   ]
  },
  {
   "cell_type": "code",
   "execution_count": 28,
   "metadata": {},
   "outputs": [
    {
     "name": "stdout",
     "output_type": "stream",
     "text": [
      "'Hank' predicted as 'Marie' : 12 examples.\n"
     ]
    },
    {
     "data": {
      "text/html": [
       "<div>\n",
       "<style scoped>\n",
       "    .dataframe tbody tr th:only-of-type {\n",
       "        vertical-align: middle;\n",
       "    }\n",
       "\n",
       "    .dataframe tbody tr th {\n",
       "        vertical-align: top;\n",
       "    }\n",
       "\n",
       "    .dataframe thead th {\n",
       "        text-align: right;\n",
       "    }\n",
       "</style>\n",
       "<table border=\"1\" class=\"dataframe\">\n",
       "  <thead>\n",
       "    <tr style=\"text-align: right;\">\n",
       "      <th></th>\n",
       "      <th>Score</th>\n",
       "      <th>dialogue</th>\n",
       "    </tr>\n",
       "  </thead>\n",
       "  <tbody>\n",
       "  </tbody>\n",
       "</table>\n",
       "</div>"
      ],
      "text/plain": [
       "Empty DataFrame\n",
       "Columns: [Score, dialogue]\n",
       "Index: []"
      ]
     },
     "metadata": {},
     "output_type": "display_data"
    },
    {
     "name": "stdout",
     "output_type": "stream",
     "text": [
      "\n",
      "'Walter' predicted as 'Marie' : 17 examples.\n"
     ]
    },
    {
     "data": {
      "text/html": [
       "<div>\n",
       "<style scoped>\n",
       "    .dataframe tbody tr th:only-of-type {\n",
       "        vertical-align: middle;\n",
       "    }\n",
       "\n",
       "    .dataframe tbody tr th {\n",
       "        vertical-align: top;\n",
       "    }\n",
       "\n",
       "    .dataframe thead th {\n",
       "        text-align: right;\n",
       "    }\n",
       "</style>\n",
       "<table border=\"1\" class=\"dataframe\">\n",
       "  <thead>\n",
       "    <tr style=\"text-align: right;\">\n",
       "      <th></th>\n",
       "      <th>Score</th>\n",
       "      <th>dialogue</th>\n",
       "    </tr>\n",
       "  </thead>\n",
       "  <tbody>\n",
       "  </tbody>\n",
       "</table>\n",
       "</div>"
      ],
      "text/plain": [
       "Empty DataFrame\n",
       "Columns: [Score, dialogue]\n",
       "Index: []"
      ]
     },
     "metadata": {},
     "output_type": "display_data"
    },
    {
     "name": "stdout",
     "output_type": "stream",
     "text": [
      "\n",
      "'Marie' predicted as 'Hank' : 12 examples.\n"
     ]
    },
    {
     "data": {
      "text/html": [
       "<div>\n",
       "<style scoped>\n",
       "    .dataframe tbody tr th:only-of-type {\n",
       "        vertical-align: middle;\n",
       "    }\n",
       "\n",
       "    .dataframe tbody tr th {\n",
       "        vertical-align: top;\n",
       "    }\n",
       "\n",
       "    .dataframe thead th {\n",
       "        text-align: right;\n",
       "    }\n",
       "</style>\n",
       "<table border=\"1\" class=\"dataframe\">\n",
       "  <thead>\n",
       "    <tr style=\"text-align: right;\">\n",
       "      <th></th>\n",
       "      <th>Score</th>\n",
       "      <th>dialogue</th>\n",
       "    </tr>\n",
       "  </thead>\n",
       "  <tbody>\n",
       "  </tbody>\n",
       "</table>\n",
       "</div>"
      ],
      "text/plain": [
       "Empty DataFrame\n",
       "Columns: [Score, dialogue]\n",
       "Index: []"
      ]
     },
     "metadata": {},
     "output_type": "display_data"
    },
    {
     "name": "stdout",
     "output_type": "stream",
     "text": [
      "\n",
      "'Skyler' predicted as 'Hank' : 11 examples.\n"
     ]
    },
    {
     "data": {
      "text/html": [
       "<div>\n",
       "<style scoped>\n",
       "    .dataframe tbody tr th:only-of-type {\n",
       "        vertical-align: middle;\n",
       "    }\n",
       "\n",
       "    .dataframe tbody tr th {\n",
       "        vertical-align: top;\n",
       "    }\n",
       "\n",
       "    .dataframe thead th {\n",
       "        text-align: right;\n",
       "    }\n",
       "</style>\n",
       "<table border=\"1\" class=\"dataframe\">\n",
       "  <thead>\n",
       "    <tr style=\"text-align: right;\">\n",
       "      <th></th>\n",
       "      <th>Score</th>\n",
       "      <th>dialogue</th>\n",
       "    </tr>\n",
       "  </thead>\n",
       "  <tbody>\n",
       "  </tbody>\n",
       "</table>\n",
       "</div>"
      ],
      "text/plain": [
       "Empty DataFrame\n",
       "Columns: [Score, dialogue]\n",
       "Index: []"
      ]
     },
     "metadata": {},
     "output_type": "display_data"
    },
    {
     "name": "stdout",
     "output_type": "stream",
     "text": [
      "\n",
      "'Walter' predicted as 'Hank' : 36 examples.\n"
     ]
    },
    {
     "data": {
      "text/html": [
       "<div>\n",
       "<style scoped>\n",
       "    .dataframe tbody tr th:only-of-type {\n",
       "        vertical-align: middle;\n",
       "    }\n",
       "\n",
       "    .dataframe tbody tr th {\n",
       "        vertical-align: top;\n",
       "    }\n",
       "\n",
       "    .dataframe thead th {\n",
       "        text-align: right;\n",
       "    }\n",
       "</style>\n",
       "<table border=\"1\" class=\"dataframe\">\n",
       "  <thead>\n",
       "    <tr style=\"text-align: right;\">\n",
       "      <th></th>\n",
       "      <th>Score</th>\n",
       "      <th>dialogue</th>\n",
       "    </tr>\n",
       "  </thead>\n",
       "  <tbody>\n",
       "  </tbody>\n",
       "</table>\n",
       "</div>"
      ],
      "text/plain": [
       "Empty DataFrame\n",
       "Columns: [Score, dialogue]\n",
       "Index: []"
      ]
     },
     "metadata": {},
     "output_type": "display_data"
    },
    {
     "name": "stdout",
     "output_type": "stream",
     "text": [
      "\n",
      "'Walter' predicted as 'Skyler' : 10 examples.\n"
     ]
    },
    {
     "data": {
      "text/html": [
       "<div>\n",
       "<style scoped>\n",
       "    .dataframe tbody tr th:only-of-type {\n",
       "        vertical-align: middle;\n",
       "    }\n",
       "\n",
       "    .dataframe tbody tr th {\n",
       "        vertical-align: top;\n",
       "    }\n",
       "\n",
       "    .dataframe thead th {\n",
       "        text-align: right;\n",
       "    }\n",
       "</style>\n",
       "<table border=\"1\" class=\"dataframe\">\n",
       "  <thead>\n",
       "    <tr style=\"text-align: right;\">\n",
       "      <th></th>\n",
       "      <th>Score</th>\n",
       "      <th>dialogue</th>\n",
       "    </tr>\n",
       "  </thead>\n",
       "  <tbody>\n",
       "  </tbody>\n",
       "</table>\n",
       "</div>"
      ],
      "text/plain": [
       "Empty DataFrame\n",
       "Columns: [Score, dialogue]\n",
       "Index: []"
      ]
     },
     "metadata": {},
     "output_type": "display_data"
    },
    {
     "name": "stdout",
     "output_type": "stream",
     "text": [
      "\n",
      "'Marie' predicted as 'Walter' : 19 examples.\n"
     ]
    },
    {
     "data": {
      "text/html": [
       "<div>\n",
       "<style scoped>\n",
       "    .dataframe tbody tr th:only-of-type {\n",
       "        vertical-align: middle;\n",
       "    }\n",
       "\n",
       "    .dataframe tbody tr th {\n",
       "        vertical-align: top;\n",
       "    }\n",
       "\n",
       "    .dataframe thead th {\n",
       "        text-align: right;\n",
       "    }\n",
       "</style>\n",
       "<table border=\"1\" class=\"dataframe\">\n",
       "  <thead>\n",
       "    <tr style=\"text-align: right;\">\n",
       "      <th></th>\n",
       "      <th>Score</th>\n",
       "      <th>dialogue</th>\n",
       "    </tr>\n",
       "  </thead>\n",
       "  <tbody>\n",
       "  </tbody>\n",
       "</table>\n",
       "</div>"
      ],
      "text/plain": [
       "Empty DataFrame\n",
       "Columns: [Score, dialogue]\n",
       "Index: []"
      ]
     },
     "metadata": {},
     "output_type": "display_data"
    },
    {
     "name": "stdout",
     "output_type": "stream",
     "text": [
      "\n",
      "'Hank' predicted as 'Walter' : 67 examples.\n"
     ]
    },
    {
     "data": {
      "text/html": [
       "<div>\n",
       "<style scoped>\n",
       "    .dataframe tbody tr th:only-of-type {\n",
       "        vertical-align: middle;\n",
       "    }\n",
       "\n",
       "    .dataframe tbody tr th {\n",
       "        vertical-align: top;\n",
       "    }\n",
       "\n",
       "    .dataframe thead th {\n",
       "        text-align: right;\n",
       "    }\n",
       "</style>\n",
       "<table border=\"1\" class=\"dataframe\">\n",
       "  <thead>\n",
       "    <tr style=\"text-align: right;\">\n",
       "      <th></th>\n",
       "      <th>Score</th>\n",
       "      <th>dialogue</th>\n",
       "    </tr>\n",
       "  </thead>\n",
       "  <tbody>\n",
       "  </tbody>\n",
       "</table>\n",
       "</div>"
      ],
      "text/plain": [
       "Empty DataFrame\n",
       "Columns: [Score, dialogue]\n",
       "Index: []"
      ]
     },
     "metadata": {},
     "output_type": "display_data"
    },
    {
     "name": "stdout",
     "output_type": "stream",
     "text": [
      "\n",
      "'Skyler' predicted as 'Walter' : 34 examples.\n"
     ]
    },
    {
     "data": {
      "text/html": [
       "<div>\n",
       "<style scoped>\n",
       "    .dataframe tbody tr th:only-of-type {\n",
       "        vertical-align: middle;\n",
       "    }\n",
       "\n",
       "    .dataframe tbody tr th {\n",
       "        vertical-align: top;\n",
       "    }\n",
       "\n",
       "    .dataframe thead th {\n",
       "        text-align: right;\n",
       "    }\n",
       "</style>\n",
       "<table border=\"1\" class=\"dataframe\">\n",
       "  <thead>\n",
       "    <tr style=\"text-align: right;\">\n",
       "      <th></th>\n",
       "      <th>Score</th>\n",
       "      <th>dialogue</th>\n",
       "    </tr>\n",
       "  </thead>\n",
       "  <tbody>\n",
       "  </tbody>\n",
       "</table>\n",
       "</div>"
      ],
      "text/plain": [
       "Empty DataFrame\n",
       "Columns: [Score, dialogue]\n",
       "Index: []"
      ]
     },
     "metadata": {},
     "output_type": "display_data"
    },
    {
     "name": "stdout",
     "output_type": "stream",
     "text": [
      "\n"
     ]
    }
   ],
   "source": [
    "from IPython.display import display\n",
    "for predicted in category_id_df.category_id:\n",
    "  for actual in category_id_df.category_id:\n",
    "    if predicted != actual and conf_mat[actual, predicted] >= 10:\n",
    "      print(\"'{}' predicted as '{}' : {} examples.\".format(id_to_category[actual], id_to_category[predicted], conf_mat[actual, predicted]))\n",
    "      display(df.loc[indices_test[(y_test == actual) & (y_pred == predicted)]][['Score', 'dialogue']])\n",
    "      print('')"
   ]
  },
  {
   "cell_type": "code",
   "execution_count": 29,
   "metadata": {},
   "outputs": [
    {
     "name": "stdout",
     "output_type": "stream",
     "text": [
      "# 'Hank':\n",
      "  . Top unigrams:\n",
      "       . yo\n",
      "       . stuff\n",
      "  . Top bigrams:\n",
      "       . mr white\n",
      "       . just saying\n",
      "# 'Jesse':\n",
      "  . Top unigrams:\n",
      "       . able\n",
      "       . flynn\n",
      "  . Top bigrams:\n",
      "       . okay just\n",
      "       . oh god\n",
      "# 'Marie':\n",
      "  . Top unigrams:\n",
      "       . fring\n",
      "       . christ\n",
      "  . Top bigrams:\n",
      "       . son bitch\n",
      "       . know don\n",
      "# 'Skyler':\n",
      "  . Top unigrams:\n",
      "       . walt\n",
      "       . ted\n",
      "  . Top bigrams:\n",
      "       . right right\n",
      "       . don wanna\n",
      "# 'Walter':\n",
      "  . Top unigrams:\n",
      "       . victor\n",
      "       . saul\n",
      "  . Top bigrams:\n",
      "       . ve got\n",
      "       . don think\n"
     ]
    }
   ],
   "source": [
    "model.fit(features, labels)\n",
    "N = 2\n",
    "for Product, category_id in sorted(category_to_id.items()):\n",
    "  indices = np.argsort(model.coef_[category_id])\n",
    "  feature_names = np.array(tfidf.get_feature_names())[indices]\n",
    "  unigrams = [v for v in reversed(feature_names) if len(v.split(' ')) == 1][:N]\n",
    "  bigrams = [v for v in reversed(feature_names) if len(v.split(' ')) == 2][:N]\n",
    "  print(\"# '{}':\".format(Product))\n",
    "  print(\"  . Top unigrams:\\n       . {}\".format('\\n       . '.join(unigrams)))\n",
    "  print(\"  . Top bigrams:\\n       . {}\".format('\\n       . '.join(bigrams)))\n"
   ]
  },
  {
   "cell_type": "code",
   "execution_count": 31,
   "metadata": {},
   "outputs": [
    {
     "name": "stdout",
     "output_type": "stream",
     "text": [
      "              precision    recall  f1-score   support\n",
      "\n",
      "       Marie       0.20      0.20      0.20        41\n",
      "        Hank       0.48      0.41      0.44       141\n",
      "       Jesse       0.00      0.00      0.00        18\n",
      "      Skyler       0.38      0.21      0.27        61\n",
      "      Walter       0.60      0.75      0.67       254\n",
      "\n",
      "    accuracy                           0.52       515\n",
      "   macro avg       0.33      0.31      0.32       515\n",
      "weighted avg       0.49      0.52      0.50       515\n",
      "\n"
     ]
    }
   ],
   "source": [
    "from sklearn import metrics\n",
    "print(metrics.classification_report(y_test, y_pred, target_names=df['Score'].unique()))"
   ]
  },
  {
   "cell_type": "code",
   "execution_count": null,
   "metadata": {},
   "outputs": [],
   "source": []
  }
 ],
 "metadata": {
  "kernelspec": {
   "display_name": "Python 3",
   "language": "python",
   "name": "python3"
  },
  "language_info": {
   "codemirror_mode": {
    "name": "ipython",
    "version": 3
   },
   "file_extension": ".py",
   "mimetype": "text/x-python",
   "name": "python",
   "nbconvert_exporter": "python",
   "pygments_lexer": "ipython3",
   "version": "3.7.3"
  }
 },
 "nbformat": 4,
 "nbformat_minor": 2
}
