{
 "cells": [
  {
   "cell_type": "code",
   "execution_count": 2,
   "metadata": {},
   "outputs": [],
   "source": [
    "tweets='''RT @juanchi72: @Delta 8 HOURS and counting. Captain had “no idea” where the ground crew was. Parked in a “remote gate” in JFK. No food, no…\n",
    "@Delta @PHXSkyHarbor How does one explain 40 people from the same company flying from PHX to ATL and so far 5 peopl… https://t.co/qrXq9CCCRF\n",
    "@Delta ---Help! I am trying to help my friends in Italy track down their lost suitcases. A report has been filed, b… https://t.co/xsL3mF6pCY\n",
    "@Delta I got an email warning that weather may delay my flight ATL &gt; LGA &amp; included a link to change my flight, but… https://t.co/QGT6W3FTAW\n",
    "@Delta it’s pretty amazing that flight 484 to Aruba is delayed over 2 hours because your can’t find a working plane, truly unacceptable\n",
    "@Delta What’s that going to do? We’re an hour-and-a-half delayed and it is now mathematically impossible for me to… https://t.co/JiFO3y3G9R\n",
    "@Delta LAX &gt; ATL what is this?! https://t.co/gLTyxn1JiD\n",
    "@Delta hi there on the 6th of sep I’m flying to newyork from Dublin airport. Do i have to fill in API as i cant find this option ? .\n",
    "@Delta tell me, how do you schedule a 9:55 flight and at 9:34 say your crew is in Birmingham and hasn’t left yet an… https://t.co/KIf76BRRv2\n",
    "@Delta Update: Delta still doesn’t care to offer any help or support at all. Beyond, sorry, not our problem. Sounds… https://t.co/6tu1HvTvsE\n",
    "@Delta Can you help me book? Cant contact your hotline\n",
    "@Delta Thank you too for your lovely services\n",
    "@Delta My coworkers and I had a truly disturbing experience with flight 2412 from JFK to ATL on Monday, August 19th… https://t.co/FbXstYLcoE\n",
    "@Delta I love flying your airline and my Sky Club membership but was disappointed today when I couldn’t use it. Del… https://t.co/pRHlK7cyq0\n",
    "@Delta 🇬🇪🚬!'''"
   ]
  },
  {
   "cell_type": "code",
   "execution_count": 6,
   "metadata": {},
   "outputs": [
    {
     "data": {
      "text/plain": [
       "['RT @juanchi72: @Delta 8 HOURS and counting. Captain had “no idea” where the ground crew was. Parked in a “remote gate” in JFK. No food, no…',\n",
       " '@Delta @PHXSkyHarbor How does one explain 40 people from the same company flying from PHX to ATL and so far 5 peopl… https://t.co/qrXq9CCCRF',\n",
       " '@Delta ---Help! I am trying to help my friends in Italy track down their lost suitcases. A report has been filed, b… https://t.co/xsL3mF6pCY',\n",
       " '@Delta I got an email warning that weather may delay my flight ATL &gt; LGA &amp; included a link to change my flight, but… https://t.co/QGT6W3FTAW',\n",
       " '@Delta it’s pretty amazing that flight 484 to Aruba is delayed over 2 hours because your can’t find a working plane, truly unacceptable',\n",
       " '@Delta What’s that going to do? We’re an hour-and-a-half delayed and it is now mathematically impossible for me to… https://t.co/JiFO3y3G9R',\n",
       " '@Delta LAX &gt; ATL what is this?! https://t.co/gLTyxn1JiD',\n",
       " '@Delta hi there on the 6th of sep I’m flying to newyork from Dublin airport. Do i have to fill in API as i cant find this option ? .',\n",
       " '@Delta tell me, how do you schedule a 9:55 flight and at 9:34 say your crew is in Birmingham and hasn’t left yet an… https://t.co/KIf76BRRv2',\n",
       " '@Delta Update: Delta still doesn’t care to offer any help or support at all. Beyond, sorry, not our problem. Sounds… https://t.co/6tu1HvTvsE',\n",
       " '@Delta Can you help me book? Cant contact your hotline',\n",
       " '@Delta Thank you too for your lovely services',\n",
       " '@Delta My coworkers and I had a truly disturbing experience with flight 2412 from JFK to ATL on Monday, August 19th… https://t.co/FbXstYLcoE',\n",
       " '@Delta I love flying your airline and my Sky Club membership but was disappointed today when I couldn’t use it. Del… https://t.co/pRHlK7cyq0',\n",
       " '@Delta 🇬🇪🚬!']"
      ]
     },
     "execution_count": 6,
     "metadata": {},
     "output_type": "execute_result"
    }
   ],
   "source": [
    "import json\n",
    "from ibm_watson import NaturalLanguageUnderstandingV1\n",
    "from ibm_watson.natural_language_understanding_v1 import Features, SentimentOptions\n",
    "\n",
    "import pandas as pd\n",
    "import matplotlib.pyplot as plt\n",
    "\n",
    "lines=tweets.splitlines()\n",
    "lines"
   ]
  },
  {
   "cell_type": "code",
   "execution_count": 9,
   "metadata": {},
   "outputs": [],
   "source": [
    "natural_language_understanding = NaturalLanguageUnderstandingV1(\n",
    "        version='2019-07-12',\n",
    "        iam_apikey='1erf8hkp6tJpTAVzh8_F7HmyRTWG6Rn9A567j5lyAcaM',\n",
    "        url='https://gateway.watsonplatform.net/natural-language-understanding/api'\n",
    "    )\n",
    "\n",
    "dicti={}"
   ]
  },
  {
   "cell_type": "code",
   "execution_count": 12,
   "metadata": {},
   "outputs": [
    {
     "name": "stdout",
     "output_type": "stream",
     "text": [
      "-0.961757\n",
      "-0.625699\n",
      "-0.824547\n",
      "-0.75887\n",
      "-0.986087\n",
      "-0.714228\n",
      "0\n",
      "-0.821801\n",
      "-0.785269\n",
      "-0.917801\n",
      "-0.655561\n",
      "0.973485\n",
      "-0.503391\n",
      "-0.906981\n"
     ]
    },
    {
     "ename": "ApiException",
     "evalue": "Error: unsupported text language: ca, Code: 400 , X-global-transaction-id: 7ecac92c5d67f0a56c621391",
     "output_type": "error",
     "traceback": [
      "\u001b[0;31m---------------------------------------------------------------------------\u001b[0m",
      "\u001b[0;31mApiException\u001b[0m                              Traceback (most recent call last)",
      "\u001b[0;32m<ipython-input-12-155ff940eb9b>\u001b[0m in \u001b[0;36m<module>\u001b[0;34m\u001b[0m\n\u001b[1;32m      3\u001b[0m     response = natural_language_understanding.analyze(\n\u001b[1;32m      4\u001b[0m         \u001b[0mtext\u001b[0m\u001b[0;34m=\u001b[0m\u001b[0ml\u001b[0m\u001b[0;34m,\u001b[0m\u001b[0;34m\u001b[0m\u001b[0;34m\u001b[0m\u001b[0m\n\u001b[0;32m----> 5\u001b[0;31m         features=Features(sentiment=SentimentOptions())).get_result()\n\u001b[0m\u001b[1;32m      6\u001b[0m     \u001b[0mdicti\u001b[0m\u001b[0;34m[\u001b[0m\u001b[0ml\u001b[0m\u001b[0;34m]\u001b[0m\u001b[0;34m=\u001b[0m\u001b[0mresponse\u001b[0m\u001b[0;34m[\u001b[0m\u001b[0;34m\"sentiment\"\u001b[0m\u001b[0;34m]\u001b[0m\u001b[0;34m[\u001b[0m\u001b[0;34m\"document\"\u001b[0m\u001b[0;34m]\u001b[0m\u001b[0;34m[\u001b[0m\u001b[0;34m\"score\"\u001b[0m\u001b[0;34m]\u001b[0m\u001b[0;34m\u001b[0m\u001b[0;34m\u001b[0m\u001b[0m\n\u001b[1;32m      7\u001b[0m     \u001b[0mprint\u001b[0m\u001b[0;34m(\u001b[0m\u001b[0mdicti\u001b[0m\u001b[0;34m[\u001b[0m\u001b[0ml\u001b[0m\u001b[0;34m]\u001b[0m\u001b[0;34m)\u001b[0m\u001b[0;34m\u001b[0m\u001b[0;34m\u001b[0m\u001b[0m\n",
      "\u001b[0;32m/usr/local/lib/python3.7/site-packages/ibm_watson/natural_language_understanding_v1.py\u001b[0m in \u001b[0;36manalyze\u001b[0;34m(self, features, text, html, url, clean, xpath, fallback_to_raw, return_analyzed_text, language, limit_text_characters, **kwargs)\u001b[0m\n\u001b[1;32m    228\u001b[0m             \u001b[0mparams\u001b[0m\u001b[0;34m=\u001b[0m\u001b[0mparams\u001b[0m\u001b[0;34m,\u001b[0m\u001b[0;34m\u001b[0m\u001b[0;34m\u001b[0m\u001b[0m\n\u001b[1;32m    229\u001b[0m             \u001b[0mjson\u001b[0m\u001b[0;34m=\u001b[0m\u001b[0mdata\u001b[0m\u001b[0;34m,\u001b[0m\u001b[0;34m\u001b[0m\u001b[0;34m\u001b[0m\u001b[0m\n\u001b[0;32m--> 230\u001b[0;31m             accept_json=True)\n\u001b[0m\u001b[1;32m    231\u001b[0m         \u001b[0;32mreturn\u001b[0m \u001b[0mresponse\u001b[0m\u001b[0;34m\u001b[0m\u001b[0;34m\u001b[0m\u001b[0m\n\u001b[1;32m    232\u001b[0m \u001b[0;34m\u001b[0m\u001b[0m\n",
      "\u001b[0;32m/usr/local/lib/python3.7/site-packages/ibm_cloud_sdk_core/base_service.py\u001b[0m in \u001b[0;36mrequest\u001b[0;34m(self, method, url, accept_json, headers, params, json, data, files, **kwargs)\u001b[0m\n\u001b[1;32m    411\u001b[0m                 \u001b[0merror_message\u001b[0m \u001b[0;34m=\u001b[0m \u001b[0;34m'Unauthorized: Access is denied due to '\u001b[0m\u001b[0;31m \u001b[0m\u001b[0;31m\\\u001b[0m\u001b[0;34m\u001b[0m\u001b[0;34m\u001b[0m\u001b[0m\n\u001b[1;32m    412\u001b[0m                                 \u001b[0;34m'invalid credentials'\u001b[0m\u001b[0;34m\u001b[0m\u001b[0;34m\u001b[0m\u001b[0m\n\u001b[0;32m--> 413\u001b[0;31m             \u001b[0;32mraise\u001b[0m \u001b[0mApiException\u001b[0m\u001b[0;34m(\u001b[0m\u001b[0mresponse\u001b[0m\u001b[0;34m.\u001b[0m\u001b[0mstatus_code\u001b[0m\u001b[0;34m,\u001b[0m \u001b[0merror_message\u001b[0m\u001b[0;34m,\u001b[0m \u001b[0mhttp_response\u001b[0m\u001b[0;34m=\u001b[0m\u001b[0mresponse\u001b[0m\u001b[0;34m)\u001b[0m\u001b[0;34m\u001b[0m\u001b[0;34m\u001b[0m\u001b[0m\n\u001b[0m\u001b[1;32m    414\u001b[0m \u001b[0;34m\u001b[0m\u001b[0m\n\u001b[1;32m    415\u001b[0m     \u001b[0;34m@\u001b[0m\u001b[0mstaticmethod\u001b[0m\u001b[0;34m\u001b[0m\u001b[0;34m\u001b[0m\u001b[0m\n",
      "\u001b[0;31mApiException\u001b[0m: Error: unsupported text language: ca, Code: 400 , X-global-transaction-id: 7ecac92c5d67f0a56c621391"
     ]
    }
   ],
   "source": [
    "for l in lines:\n",
    "    \n",
    "    response = natural_language_understanding.analyze(\n",
    "        text=l,\n",
    "        features=Features(sentiment=SentimentOptions())).get_result()\n",
    "    dicti[l]=response[\"sentiment\"][\"document\"][\"score\"]\n",
    "    print(dicti[l])\n"
   ]
  },
  {
   "cell_type": "code",
   "execution_count": 15,
   "metadata": {},
   "outputs": [
    {
     "data": {
      "text/plain": [
       "[('@Delta it’s pretty amazing that flight 484 to Aruba is delayed over 2 hours because your can’t find a working plane, truly unacceptable',\n",
       "  -0.986087),\n",
       " ('RT @juanchi72: @Delta 8 HOURS and counting. Captain had “no idea” where the ground crew was. Parked in a “remote gate” in JFK. No food, no…',\n",
       "  -0.961757),\n",
       " ('@Delta Update: Delta still doesn’t care to offer any help or support at all. Beyond, sorry, not our problem. Sounds… https://t.co/6tu1HvTvsE',\n",
       "  -0.917801),\n",
       " ('@Delta I love flying your airline and my Sky Club membership but was disappointed today when I couldn’t use it. Del… https://t.co/pRHlK7cyq0',\n",
       "  -0.906981),\n",
       " ('@Delta ---Help! I am trying to help my friends in Italy track down their lost suitcases. A report has been filed, b… https://t.co/xsL3mF6pCY',\n",
       "  -0.824547),\n",
       " ('@Delta hi there on the 6th of sep I’m flying to newyork from Dublin airport. Do i have to fill in API as i cant find this option ? .',\n",
       "  -0.821801),\n",
       " ('@Delta tell me, how do you schedule a 9:55 flight and at 9:34 say your crew is in Birmingham and hasn’t left yet an… https://t.co/KIf76BRRv2',\n",
       "  -0.785269),\n",
       " ('@Delta I got an email warning that weather may delay my flight ATL &gt; LGA &amp; included a link to change my flight, but… https://t.co/QGT6W3FTAW',\n",
       "  -0.75887),\n",
       " ('@Delta What’s that going to do? We’re an hour-and-a-half delayed and it is now mathematically impossible for me to… https://t.co/JiFO3y3G9R',\n",
       "  -0.714228),\n",
       " ('@Delta Can you help me book? Cant contact your hotline', -0.655561),\n",
       " ('@Delta @PHXSkyHarbor How does one explain 40 people from the same company flying from PHX to ATL and so far 5 peopl… https://t.co/qrXq9CCCRF',\n",
       "  -0.625699),\n",
       " ('@Delta My coworkers and I had a truly disturbing experience with flight 2412 from JFK to ATL on Monday, August 19th… https://t.co/FbXstYLcoE',\n",
       "  -0.503391),\n",
       " ('@Delta LAX &gt; ATL what is this?! https://t.co/gLTyxn1JiD', 0),\n",
       " ('@Delta Thank you too for your lovely services', 0.973485)]"
      ]
     },
     "execution_count": 15,
     "metadata": {},
     "output_type": "execute_result"
    }
   ],
   "source": [
    "import collections\n",
    "\n",
    "sorted(dicti.items(), key=lambda x: x[1])\n"
   ]
  },
  {
   "cell_type": "code",
   "execution_count": 33,
   "metadata": {},
   "outputs": [
    {
     "name": "stdout",
     "output_type": "stream",
     "text": [
      "['/food and drink', '/law, govt and politics']\n",
      "['/travel/transports/air travel/airlines', '/business and industrial/company']\n",
      "['/law, govt and politics', '/society']\n",
      "['/technology and computing/internet technology/email', '/automotive and vehicles/cars/performance vehicles']\n",
      "['/travel/transports/air travel/airlines', '/travel/transports/air travel/airplanes']\n",
      "['/science/physics/electromagnetism', '/science/mathematics/geometry']\n",
      "['/automotive and vehicles/cars/performance vehicles', '/automotive and vehicles/cars/coupe']\n",
      "['/technology and computing/programming languages/javascript', '/technology and computing/programming languages/java']\n",
      "['/travel/transports/air travel/airlines', '/travel/transports/sea travel']\n",
      "['/family and parenting/eldercare', '/technology and computing/hardware/computer/servers']\n",
      "['/travel/transports/air travel/airlines', '/family and parenting/children']\n"
     ]
    },
    {
     "ename": "IndexError",
     "evalue": "list index out of range",
     "output_type": "error",
     "traceback": [
      "\u001b[0;31m---------------------------------------------------------------------------\u001b[0m",
      "\u001b[0;31mIndexError\u001b[0m                                Traceback (most recent call last)",
      "\u001b[0;32m<ipython-input-33-4ca1cb422067>\u001b[0m in \u001b[0;36m<module>\u001b[0;34m\u001b[0m\n\u001b[1;32m     11\u001b[0m     \u001b[0mlabels\u001b[0m\u001b[0;34m=\u001b[0m\u001b[0;34m[\u001b[0m\u001b[0;34m]\u001b[0m\u001b[0;34m\u001b[0m\u001b[0;34m\u001b[0m\u001b[0m\n\u001b[1;32m     12\u001b[0m     \u001b[0mlabels\u001b[0m\u001b[0;34m.\u001b[0m\u001b[0mappend\u001b[0m\u001b[0;34m(\u001b[0m\u001b[0mcategories_list\u001b[0m\u001b[0;34m[\u001b[0m\u001b[0;36m0\u001b[0m\u001b[0;34m]\u001b[0m\u001b[0;34m[\u001b[0m\u001b[0;34m'label'\u001b[0m\u001b[0;34m]\u001b[0m\u001b[0;34m)\u001b[0m\u001b[0;34m\u001b[0m\u001b[0;34m\u001b[0m\u001b[0m\n\u001b[0;32m---> 13\u001b[0;31m     \u001b[0mlabels\u001b[0m\u001b[0;34m.\u001b[0m\u001b[0mappend\u001b[0m\u001b[0;34m(\u001b[0m\u001b[0mcategories_list\u001b[0m\u001b[0;34m[\u001b[0m\u001b[0;36m1\u001b[0m\u001b[0;34m]\u001b[0m\u001b[0;34m[\u001b[0m\u001b[0;34m'label'\u001b[0m\u001b[0;34m]\u001b[0m\u001b[0;34m)\u001b[0m\u001b[0;34m\u001b[0m\u001b[0;34m\u001b[0m\u001b[0m\n\u001b[0m\u001b[1;32m     14\u001b[0m     \u001b[0;31m#labels.append(categories_list[2]['label'])\u001b[0m\u001b[0;34m\u001b[0m\u001b[0;34m\u001b[0m\u001b[0;34m\u001b[0m\u001b[0m\n\u001b[1;32m     15\u001b[0m     \u001b[0mcategories\u001b[0m\u001b[0;34m[\u001b[0m\u001b[0ml\u001b[0m\u001b[0;34m]\u001b[0m\u001b[0;34m=\u001b[0m\u001b[0mlabels\u001b[0m\u001b[0;34m\u001b[0m\u001b[0;34m\u001b[0m\u001b[0m\n",
      "\u001b[0;31mIndexError\u001b[0m: list index out of range"
     ]
    }
   ],
   "source": [
    "categories={}\n",
    "from ibm_watson.natural_language_understanding_v1 import CategoriesOptions\n",
    "\n",
    "for l in lines:\n",
    "    \n",
    "    response = natural_language_understanding.analyze(\n",
    "        text=l,\n",
    "        features=Features(categories=CategoriesOptions(limit=3))).get_result()\n",
    "    categories_list=response[\"categories\"]\n",
    "    #print(categories)\n",
    "    labels=[]\n",
    "    list_len=len(categories_list) \n",
    "    labels.append(categories_list[0]['label'])\n",
    "    labels.append(categories_list[1]['label'])\n",
    "    #labels.append(categories_list[2]['label'])\n",
    "    categories[l]=labels\n",
    "    print(labels)\n",
    "    print\n",
    "    \n",
    "\n",
    "\n"
   ]
  },
  {
   "cell_type": "code",
   "execution_count": 34,
   "metadata": {},
   "outputs": [
    {
     "name": "stdout",
     "output_type": "stream",
     "text": [
      "RT @juanchi72: @Delta 8 HOURS and counting. Captain had “no idea” where the ground crew was. Parked in a “remote gate” in JFK. No food, no… ['/food and drink', '/law, govt and politics']\n",
      "@Delta @PHXSkyHarbor How does one explain 40 people from the same company flying from PHX to ATL and so far 5 peopl… https://t.co/qrXq9CCCRF ['/travel/transports/air travel/airlines', '/business and industrial/company']\n",
      "@Delta ---Help! I am trying to help my friends in Italy track down their lost suitcases. A report has been filed, b… https://t.co/xsL3mF6pCY ['/law, govt and politics', '/society']\n",
      "@Delta I got an email warning that weather may delay my flight ATL &gt; LGA &amp; included a link to change my flight, but… https://t.co/QGT6W3FTAW ['/technology and computing/internet technology/email', '/automotive and vehicles/cars/performance vehicles']\n",
      "@Delta it’s pretty amazing that flight 484 to Aruba is delayed over 2 hours because your can’t find a working plane, truly unacceptable ['/travel/transports/air travel/airlines', '/travel/transports/air travel/airplanes']\n",
      "@Delta What’s that going to do? We’re an hour-and-a-half delayed and it is now mathematically impossible for me to… https://t.co/JiFO3y3G9R ['/science/physics/electromagnetism', '/science/mathematics/geometry']\n",
      "@Delta LAX &gt; ATL what is this?! https://t.co/gLTyxn1JiD ['/automotive and vehicles/cars/performance vehicles', '/automotive and vehicles/cars/coupe']\n",
      "@Delta hi there on the 6th of sep I’m flying to newyork from Dublin airport. Do i have to fill in API as i cant find this option ? . ['/technology and computing/programming languages/javascript', '/technology and computing/programming languages/java']\n",
      "@Delta tell me, how do you schedule a 9:55 flight and at 9:34 say your crew is in Birmingham and hasn’t left yet an… https://t.co/KIf76BRRv2 ['/travel/transports/air travel/airlines', '/travel/transports/sea travel']\n",
      "@Delta Update: Delta still doesn’t care to offer any help or support at all. Beyond, sorry, not our problem. Sounds… https://t.co/6tu1HvTvsE ['/family and parenting/eldercare', '/technology and computing/hardware/computer/servers']\n",
      "@Delta Can you help me book? Cant contact your hotline ['/travel/transports/air travel/airlines', '/family and parenting/children']\n"
     ]
    }
   ],
   "source": [
    "for k, v in categories.items():\n",
    "    print(k, v)"
   ]
  },
  {
   "cell_type": "code",
   "execution_count": null,
   "metadata": {},
   "outputs": [],
   "source": []
  }
 ],
 "metadata": {
  "kernelspec": {
   "display_name": "Python 3",
   "language": "python",
   "name": "python3"
  },
  "language_info": {
   "codemirror_mode": {
    "name": "ipython",
    "version": 3
   },
   "file_extension": ".py",
   "mimetype": "text/x-python",
   "name": "python",
   "nbconvert_exporter": "python",
   "pygments_lexer": "ipython3",
   "version": "3.7.3"
  }
 },
 "nbformat": 4,
 "nbformat_minor": 2
}
